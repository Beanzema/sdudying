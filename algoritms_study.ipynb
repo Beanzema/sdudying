{
 "cells": [
  {
   "cell_type": "code",
   "execution_count": 7,
   "source": [
    "n = 1260\r\n",
    "count = 0\r\n",
    "\r\n",
    "#큰 단위의 화폐부터 차례대로 확인\r\n",
    "list = [500, 100, 50, 10]\r\n",
    "\r\n",
    "for coin in list:\r\n",
    "    count += n // coin #해당 화폐로 거슬러 줄 수 있는 동전의 개수 세기. // 연산자의 의미는 정수 부분 몫 값을 취하는 것을 의미함.\r\n",
    "    n %= coin\r\n",
    "\r\n",
    "print(count)"
   ],
   "outputs": [
    {
     "output_type": "stream",
     "name": "stdout",
     "text": [
      "6\n"
     ]
    }
   ],
   "metadata": {}
  },
  {
   "cell_type": "code",
   "execution_count": null,
   "source": [],
   "outputs": [],
   "metadata": {}
  }
 ],
 "metadata": {
  "orig_nbformat": 4,
  "language_info": {
   "name": "python",
   "version": "3.8.8",
   "mimetype": "text/x-python",
   "codemirror_mode": {
    "name": "ipython",
    "version": 3
   },
   "pygments_lexer": "ipython3",
   "nbconvert_exporter": "python",
   "file_extension": ".py"
  },
  "kernelspec": {
   "name": "python3",
   "display_name": "Python 3.8.8 64-bit ('base': conda)"
  },
  "interpreter": {
   "hash": "2346a11a15bd85cc3c2181d25c7e23d6d4f5f51a62f8dc73ff2a7ca497e6245f"
  }
 },
 "nbformat": 4,
 "nbformat_minor": 2
}