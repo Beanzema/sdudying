{
 "cells": [
  {
   "cell_type": "code",
   "execution_count": 31,
   "source": [
    "def gugudan(number):\r\n",
    "    print(\"%i 단\" %number)\r\n",
    "    for i in range(1, 50, 2):\r\n",
    "        if number*i > 50:\r\n",
    "            break\r\n",
    "        print(f\"{number} X {i} = {number*i}\")\r\n",
    "\r\n",
    "\r\n",
    "number = int(input(\"몇 단?: \"))\r\n",
    "gugudan(number)"
   ],
   "outputs": [
    {
     "output_type": "stream",
     "name": "stdout",
     "text": [
      "8 단\n",
      "8 X 1 = 8\n",
      "8 X 3 = 24\n",
      "8 X 5 = 40\n"
     ]
    }
   ],
   "metadata": {}
  },
  {
   "cell_type": "code",
   "execution_count": 21,
   "source": [
    "import random\r\n",
    "\r\n",
    "def rsp_advanced(games):\r\n",
    "    user_win_count = 0\r\n",
    "    user_draw_count = 0\r\n",
    "    user_lose_count = 0\r\n",
    "    for i in range(1,games+1):\r\n",
    "        user_rsp = \"default\"\r\n",
    "        variables = ['0', '1', '2', '가위', '바위', '보']\r\n",
    "        while True:\r\n",
    "            user_rsp = input(\"가위 바위 보:\")\r\n",
    "            if user_rsp not in variables:\r\n",
    "                continue\r\n",
    "            if (user_rsp == '0') or (user_rsp == '가위'):\r\n",
    "                user_rsp = 0\r\n",
    "            elif (user_rsp == '1') or (user_rsp == '바위'):\r\n",
    "                user_rsp = 1\r\n",
    "            else:\r\n",
    "                user_rsp = 2\r\n",
    "            print(\"나: %s\" %variables[3+user_rsp])\r\n",
    "            computer = random.randint(0,2)\r\n",
    "            print(\"컴퓨터: %s\" %variables[3+computer])\r\n",
    "\r\n",
    "            if (computer-user_rsp) == 0:\r\n",
    "                print(f\"{i}번째 판 비겼습니다!\")\r\n",
    "                user_draw_count += 1\r\n",
    "            elif ((computer-user_rsp) == 1) or ((computer-user_rsp) == -2):\r\n",
    "                print(f\"{i}번째 판 컴퓨터 승리!\")\r\n",
    "                user_lose_count += 1\r\n",
    "            else:\r\n",
    "                print(f\"{i}번째 판 나의 승리!\")\r\n",
    "                user_win_count += 1\r\n",
    "            break\r\n",
    "    print(f\"\\n나의 전적: {user_win_count}승 {user_draw_count}무 {user_lose_count}패\")\r\n",
    "    print(f\"컴퓨터의 전적: {user_lose_count}승 {user_draw_count}무 {user_win_count}패\")\r\n",
    "\r\n",
    "games = int(input(\"몇 판을 진행하시겠습니까?: \"))\r\n",
    "rsp_advanced(games)"
   ],
   "outputs": [
    {
     "output_type": "stream",
     "name": "stdout",
     "text": [
      "나: 가위\n",
      "컴퓨터: 보\n",
      "1번째 판 나의 승리!\n",
      "나: 가위\n",
      "컴퓨터: 가위\n",
      "2번째 판 비겼습니다!\n",
      "나: 가위\n",
      "컴퓨터: 바위\n",
      "3번째 판 컴퓨터 승리!\n",
      "\n",
      "나의 전적: 1승 1무 1패\n",
      "컴퓨터의 전적: 1승 1무 1패\n"
     ]
    }
   ],
   "metadata": {}
  },
  {
   "cell_type": "code",
   "execution_count": 6,
   "source": [
    "def find_even_number(n, m):\r\n",
    "    if n % 2 != 0:\r\n",
    "        n += 1\r\n",
    "    numbers = [i for i in range(n, m+1, 2)]\r\n",
    "    for i in numbers:\r\n",
    "        if (i % 2 == 0):\r\n",
    "            print(f\"{i} 짝수\")\r\n",
    "            if ((m-n) % 2) == 1:\r\n",
    "                if (numbers.index(i) ==  len(numbers) // 2):\r\n",
    "                    print(f\"{i} 중앙값\")\r\n",
    "\r\n",
    "n = int(input(\"첫 번째 수 입력: \"))\r\n",
    "m = int(input(\"두 번째 수 입력: \"))\r\n",
    "find_even_number(n, m)"
   ],
   "outputs": [
    {
     "output_type": "stream",
     "name": "stdout",
     "text": [
      "2 짝수\n",
      "4 짝수\n",
      "6 짝수\n",
      "6 중앙값\n",
      "8 짝수\n",
      "10 짝수\n"
     ]
    }
   ],
   "metadata": {}
  },
  {
   "cell_type": "code",
   "execution_count": 52,
   "source": [
    "def count_prime_number(n, m):\r\n",
    "    count = 0\r\n",
    "    if n == 1:\r\n",
    "        n += 1\r\n",
    "    for i in range(n, m+1):\r\n",
    "        j = 2\r\n",
    "        is_prime_number = 0\r\n",
    "        for j in range(2, i):\r\n",
    "            if i % j == 0:\r\n",
    "                is_prime_number += 1\r\n",
    "                break\r\n",
    "            j += 1\r\n",
    "        if is_prime_number == 0:\r\n",
    "            # print(i) 여기를 주석문 해제할 경우 어떤 소수가 있는지 하나씩 출력 가능\r\n",
    "            count += 1\r\n",
    "    print(f\"소수개수 {count}\")\r\n",
    "\r\n",
    "\r\n",
    "n = int(input(\"첫 번째 수 입력: \"))\r\n",
    "m = int(input(\"두 번째 수 입력: \"))\r\n",
    "count_prime_number(n, m)"
   ],
   "outputs": [
    {
     "output_type": "stream",
     "name": "stdout",
     "text": [
      "2\n",
      "3\n",
      "5\n",
      "7\n",
      "소수개수 4\n"
     ]
    }
   ],
   "metadata": {}
  }
 ],
 "metadata": {
  "orig_nbformat": 4,
  "language_info": {
   "name": "python",
   "version": "3.8.8",
   "mimetype": "text/x-python",
   "codemirror_mode": {
    "name": "ipython",
    "version": 3
   },
   "pygments_lexer": "ipython3",
   "nbconvert_exporter": "python",
   "file_extension": ".py"
  },
  "kernelspec": {
   "name": "python3",
   "display_name": "Python 3.8.8 64-bit ('base': conda)"
  },
  "interpreter": {
   "hash": "2346a11a15bd85cc3c2181d25c7e23d6d4f5f51a62f8dc73ff2a7ca497e6245f"
  }
 },
 "nbformat": 4,
 "nbformat_minor": 2
}