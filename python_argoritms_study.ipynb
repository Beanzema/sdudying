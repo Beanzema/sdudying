{
 "cells": [
  {
   "cell_type": "markdown",
   "source": [
    "# 1. 연결 리스트(Linked List)\r\n",
    "* 객체에 초기값을 설정해야 할 필요가 있을 때는 생성자(__init__)를 구현한다.\r\n",
    "* "
   ],
   "metadata": {}
  },
  {
   "cell_type": "code",
   "execution_count": 1,
   "source": [
    "class Node:\r\n",
    "    def __init__(self, data, next=None):\r\n",
    "        self.data = data\r\n",
    "        self.next = next"
   ],
   "outputs": [],
   "metadata": {}
  },
  {
   "cell_type": "code",
   "execution_count": 14,
   "source": [
    "def init_list():\r\n",
    "    global node_A\r\n",
    "    node_A = Node('A')\r\n",
    "    node_B = Node('B')\r\n",
    "    node_C = Node('C')\r\n",
    "    node_D = Node('D')\r\n",
    "    node_A.next = node_B\r\n",
    "    node_B.next = node_C\r\n",
    "    node_C.next = node_D\r\n",
    "\r\n",
    "def print_list():\r\n",
    "    global node_A\r\n",
    "    node = node_A\r\n",
    "    while node:\r\n",
    "        print(node.data)\r\n",
    "        node = node.next\r\n",
    "\r\n",
    "if __name__ == '__main__':\r\n",
    "    init_list()\r\n",
    "    print_list()\r\n",
    "    print(node_A.data)\r\n",
    "    print(node_A)\r\n",
    "    print(node_A.next.data)"
   ],
   "outputs": [
    {
     "output_type": "stream",
     "name": "stdout",
     "text": [
      "A\n",
      "B\n",
      "C\n",
      "D\n",
      "A\n",
      "<__main__.Node object at 0x00000238751F9550>\n",
      "B\n"
     ]
    }
   ],
   "metadata": {}
  },
  {
   "cell_type": "markdown",
   "source": [
    "# 연결리스트의 삽입 알고리즘"
   ],
   "metadata": {}
  },
  {
   "cell_type": "code",
   "execution_count": 17,
   "source": [
    "class Node:\r\n",
    "    def __init__(self, data, next=None):\r\n",
    "        self.data = data\r\n",
    "        self.next = next\r\n",
    "\r\n",
    "def init_list():\r\n",
    "    global node_A\r\n",
    "    node_A = Node('A')\r\n",
    "    node_B = Node('B')\r\n",
    "    node_D = Node('D')\r\n",
    "    node_E = Node('E')\r\n",
    "    \r\n",
    "    node_A.next = node_B\r\n",
    "    node_B.next = node_D\r\n",
    "    node_D.next = node_E\r\n",
    "\r\n",
    "def insert_node(data):\r\n",
    "    global node_A\r\n",
    "    new_node = Node(data)\r\n",
    "    node_P = node_A\r\n",
    "    node_T = node_A\r\n",
    "    while node_T.data <= data:\r\n",
    "        node_P = node_T\r\n",
    "        node_T = node_T.next\r\n",
    "    new_node.next = node_T\r\n",
    "    node_P.next = new_node\r\n",
    "\r\n",
    "def print_list():\r\n",
    "    global node_A\r\n",
    "    node = node_A\r\n",
    "    while node:\r\n",
    "        print(node.data)\r\n",
    "        node = node.next\r\n",
    "\r\n",
    "if __name__ == '__main__':\r\n",
    "    print('연결 리스트 초기화 후: ')\r\n",
    "    init_list()\r\n",
    "    print_list()\r\n",
    "    print('노드 C를 삽입한 후: ')\r\n",
    "    insert_node('C')\r\n",
    "    print_list()"
   ],
   "outputs": [
    {
     "output_type": "stream",
     "name": "stdout",
     "text": [
      "연결 리스트 초기화 후: \n",
      "A\n",
      "B\n",
      "D\n",
      "E\n",
      "노드 C를 삽입한 후: \n",
      "A\n",
      "B\n",
      "C\n",
      "D\n",
      "E\n"
     ]
    }
   ],
   "metadata": {}
  },
  {
   "cell_type": "markdown",
   "source": [
    "* 노드를 삽입하는 insert_node() 함수는 인수로 data를 받는다. node_A를 global로 선언했기 때문에 node_A는 이미 init_list() 함수에서 생성된 연결리스트의 첫 번째 노드인 node_A 값을 갖고 있다.\r\n",
    "* 그리고 나서 인수로 받은 data를 저장할 node_node를 선언한다. 또한 node_A와 node_B를 선언하는 node_P와 node_T를 선언한다. node_P와 node_T는 연결 리스트를 탐색하면서 새로운 노드를 삽입할 노드의 위치를 보관하기 위해 선언한 변수들이다.\r\n",
    "* node_T의 data와 인수로 받은 data를 비교하여, node_T가 작으면 node_T는 다음 링크의 노드를 가리키도록 한다.\r\n",
    "* node_T의 data가 인수로 받은 data보다 크게 되면, 해당 위치가 인수로 받은 data를 사용하여 생성한 new_data가 삽입될 위치가 된다."
   ],
   "metadata": {}
  },
  {
   "cell_type": "markdown",
   "source": [
    "# 연결 리스트의 삭제 알고리즘"
   ],
   "metadata": {}
  },
  {
   "cell_type": "code",
   "execution_count": 24,
   "source": [
    "class Node:\r\n",
    "    def __init__(self, data, next=None):\r\n",
    "        self.data = data\r\n",
    "        self.next = next\r\n",
    "\r\n",
    "def init_list():\r\n",
    "    global node_A\r\n",
    "    node_A = Node('A')\r\n",
    "    node_B = Node('B')\r\n",
    "    node_D = Node('D')\r\n",
    "    node_E = Node('E')\r\n",
    "\r\n",
    "    node_A.next = node_B\r\n",
    "    node_B.next = node_D\r\n",
    "    node_D.next = node_E\r\n",
    "\r\n",
    "def print_list():\r\n",
    "    global node_A\r\n",
    "    node = node_A\r\n",
    "    while node:\r\n",
    "        print(node.data)\r\n",
    "        node = node.next\r\n",
    "\r\n",
    "def insert_node(data):\r\n",
    "    global node_A\r\n",
    "    new_node = Node(data)\r\n",
    "    node_P = node_A\r\n",
    "    node_T = node_A\r\n",
    "    while node_T.data <= data:\r\n",
    "        node_P = node_T\r\n",
    "        node_T = node_T.next\r\n",
    "    new_node.next = node_T\r\n",
    "    node_P.next = new_node\r\n",
    "\r\n",
    "\r\n",
    "def delete_node(del_data):\r\n",
    "    global node_A\r\n",
    "    pre_node = node_A\r\n",
    "    next_node = pre_node.next\r\n",
    "\r\n",
    "    if pre_node.data == del_data:\r\n",
    "        node_A = next_node\r\n",
    "        del pre_node\r\n",
    "        return\r\n",
    "    \r\n",
    "    while next_node:\r\n",
    "        if next_node.data == del_data:\r\n",
    "            pre_node.next = next_node.next\r\n",
    "            del next_node\r\n",
    "            break\r\n",
    "        pre_node = next_node\r\n",
    "        next_node = next_node.next\r\n",
    "\r\n",
    "if __name__ == '__main__':\r\n",
    "    print('연결리스트 초기화 후: ')\r\n",
    "    init_list()\r\n",
    "    print_list()\r\n",
    "    print('노드 C를 추가한 후: ')\r\n",
    "    insert_node('C')\r\n",
    "    print_list()\r\n",
    "    print('노드 D를 삭제한 후: ')\r\n",
    "    delete_node('D')\r\n",
    "    print_list()"
   ],
   "outputs": [
    {
     "output_type": "stream",
     "name": "stdout",
     "text": [
      "연결리스트 초기화 후: \n",
      "A\n",
      "B\n",
      "D\n",
      "E\n",
      "노드 C를 추가한 후: \n",
      "A\n",
      "B\n",
      "C\n",
      "D\n",
      "E\n",
      "노드 D를 삭제한 후: \n",
      "A\n",
      "B\n",
      "C\n",
      "E\n"
     ]
    }
   ],
   "metadata": {}
  },
  {
   "cell_type": "markdown",
   "source": [
    "# 이중 연결 리스트"
   ],
   "metadata": {}
  },
  {
   "cell_type": "code",
   "execution_count": 25,
   "source": [
    "class Node:\r\n",
    "    def __init__(self, data, prev=None, next=None):\r\n",
    "        self.data = data\r\n",
    "        self.next = next\r\n",
    "        self.prev = prev\r\n",
    "\r\n",
    "def init_list():\r\n",
    "    global node_A\r\n",
    "    node_A = Node('A')\r\n",
    "    node_B = Node('B')\r\n",
    "    node_D = Node('D')\r\n",
    "    node_E = Node('E')\r\n",
    "    node_A.next = node_B\r\n",
    "    node_B.next = node_D\r\n",
    "    node_D.next = node_E\r\n",
    "    node_B.prev = node_A\r\n",
    "    node_D.prev = node_B\r\n",
    "    node_E.prev = node_D\r\n",
    "\r\n",
    "def print_list():\r\n",
    "    global node_A\r\n",
    "    node = node_A\r\n",
    "    while node:\r\n",
    "        print(node.data)\r\n",
    "        node = node.next\r\n",
    "\r\n",
    "if __name__ == '__main__':\r\n",
    "    print('연결 리스트 초기화 후')\r\n",
    "    init_list()\r\n",
    "    print_list()"
   ],
   "outputs": [
    {
     "output_type": "stream",
     "name": "stdout",
     "text": [
      "연결 리스트 초기화 후\n",
      "A\n",
      "B\n",
      "D\n",
      "E\n"
     ]
    }
   ],
   "metadata": {}
  },
  {
   "cell_type": "markdown",
   "source": [
    "## 이중 연결 리스트의 삽입 알고리즘"
   ],
   "metadata": {}
  },
  {
   "cell_type": "code",
   "execution_count": 27,
   "source": [
    "class Node:\r\n",
    "    def __init__(self, data, prev=None, next=None):\r\n",
    "        self.data = data\r\n",
    "        self.prev = prev\r\n",
    "        self.next = next\r\n",
    "\r\n",
    "def init_list():\r\n",
    "    global node_A\r\n",
    "    node_A = Node('A')\r\n",
    "    node_B = Node('B')\r\n",
    "    node_D = Node('D')\r\n",
    "    node_E = Node('E')\r\n",
    "    node_A.next = node_B\r\n",
    "    node_B.next = node_D\r\n",
    "    node_B.prev = node_A\r\n",
    "    node_D.next = node_E\r\n",
    "    node_D.prev = node_B\r\n",
    "    node_E.prev = node_D\r\n",
    "\r\n",
    "def print_list():\r\n",
    "    global node_A\r\n",
    "    node = node_A\r\n",
    "    while node:\r\n",
    "        print(node.data)\r\n",
    "        node = node.next\r\n",
    "\r\n",
    "def insert_node(data):\r\n",
    "    global node_A\r\n",
    "    new_node = Node(data)\r\n",
    "    node_P = node_A\r\n",
    "    node_T = node_A\r\n",
    "\r\n",
    "    while node_T.data <= data:\r\n",
    "        node_P = node_T\r\n",
    "        node_T = node_T.next\r\n",
    "    node_P.next = new_node\r\n",
    "    new_node.next = node_T\r\n",
    "    new_node.prev = node_P\r\n",
    "    node_P.prev = new_node\r\n",
    "\r\n",
    "\r\n",
    "if __name__ == '__main__':\r\n",
    "    print(\"연결리스트 초기화 후: \")\r\n",
    "    init_list()\r\n",
    "    print_list()\r\n",
    "    print('노드 C의 추가 후:')\r\n",
    "    insert_node('C')\r\n",
    "    print_list()"
   ],
   "outputs": [
    {
     "output_type": "stream",
     "name": "stdout",
     "text": [
      "연결리스트 초기화 후: \n",
      "A\n",
      "B\n",
      "D\n",
      "E\n",
      "노드 C의 추가 후:\n",
      "A\n",
      "B\n",
      "C\n",
      "D\n",
      "E\n"
     ]
    }
   ],
   "metadata": {}
  },
  {
   "cell_type": "markdown",
   "source": [
    "## 이중 연결리스트의 삭제 알고리즘"
   ],
   "metadata": {}
  },
  {
   "cell_type": "code",
   "execution_count": 53,
   "source": [
    "# 이중 연결 리스트 삭제 알고리즘 solution (2)\r\n",
    "\r\n",
    "class Node:\r\n",
    "    def __init__(self, data, next=None, prev=None):\r\n",
    "        self.data = data\r\n",
    "        self.next = next\r\n",
    "        self.prev = prev\r\n",
    "\r\n",
    "def init_list():\r\n",
    "    global node_A\r\n",
    "    node_A = Node('A')\r\n",
    "    node_B = Node('B')\r\n",
    "    node_D = Node('D')\r\n",
    "    node_E = Node('E')\r\n",
    "    node_A.next = node_B\r\n",
    "    node_B.prev = node_A\r\n",
    "    node_B.next = node_D\r\n",
    "    node_D.prev = node_B\r\n",
    "    node_D.next = node_E\r\n",
    "\r\n",
    "def insert_node(data):\r\n",
    "    global node_A\r\n",
    "    new_node = Node(data)\r\n",
    "    node_P = node_A\r\n",
    "    node_T = node_A\r\n",
    "    while node_T.data <= data:\r\n",
    "        node_P = node_T\r\n",
    "        node_T = node_T.next\r\n",
    "    node_P.next = new_node\r\n",
    "    new_node.next = node_T\r\n",
    "    new_node.prev = node_P\r\n",
    "    node_T.prev = new_node\r\n",
    "\r\n",
    "def delete_node(del_data):\r\n",
    "    global node_A\r\n",
    "    pre_node = node_A\r\n",
    "    next_node = pre_node.next\r\n",
    "    next_next_node = next_node.next\r\n",
    "    if pre_node.data == del_data:\r\n",
    "        node_A = node_A.next\r\n",
    "        del pre_node\r\n",
    "        return\r\n",
    "    \r\n",
    "    while next_next_node:\r\n",
    "        if next_next_node.data == del_data:\r\n",
    "            pre_node = next_node\r\n",
    "            next_node = next_next_node.next\r\n",
    "            pre_node.next = next_node\r\n",
    "            if next_node:\r\n",
    "                next_node.prev = pre_node\r\n",
    "            del next_next_node\r\n",
    "            return\r\n",
    "        pre_node = pre_node.next\r\n",
    "        next_node = pre_node.next\r\n",
    "        next_next_node = next_next_node.next\r\n",
    "\r\n",
    "        \r\n",
    "\r\n",
    "def print_list():\r\n",
    "    global node_A\r\n",
    "    node = node_A\r\n",
    "    while node:\r\n",
    "        print(node.data)\r\n",
    "        node = node.next\r\n",
    "\r\n",
    "if __name__ == '__main__':\r\n",
    "    print('연결 리스트 초기화 후:')\r\n",
    "    init_list()\r\n",
    "    print_list()\r\n",
    "    print('노드 C의 추가 후:')\r\n",
    "    insert_node('C')\r\n",
    "    print_list()\r\n",
    "    print('노드 D의 삭제 후')\r\n",
    "    delete_node('D')\r\n",
    "    print_list()"
   ],
   "outputs": [
    {
     "output_type": "stream",
     "name": "stdout",
     "text": [
      "연결 리스트 초기화 후:\n",
      "A\n",
      "B\n",
      "D\n",
      "E\n",
      "노드 C의 추가 후:\n",
      "A\n",
      "B\n",
      "C\n",
      "D\n",
      "E\n",
      "노드 D의 삭제 후\n",
      "A\n",
      "B\n",
      "C\n",
      "E\n"
     ]
    }
   ],
   "metadata": {}
  },
  {
   "cell_type": "code",
   "execution_count": 54,
   "source": [
    "# 이중 연결 리스트 삭제 알고리즘 solution (2)\r\n",
    "\r\n",
    "class Node:\r\n",
    "    def __init__(self, data, next=None, prev=None):\r\n",
    "        self.data = data\r\n",
    "        self.next = next\r\n",
    "        self.prev = prev\r\n",
    "\r\n",
    "def init_list():\r\n",
    "    global node_A\r\n",
    "    node_A = Node('A')\r\n",
    "    node_B = Node('B')\r\n",
    "    node_D = Node('D')\r\n",
    "    node_E = Node('E')\r\n",
    "    node_A.next = node_B\r\n",
    "    node_B.prev = node_A\r\n",
    "    node_B.next = node_D\r\n",
    "    node_D.prev = node_B\r\n",
    "    node_D.next = node_E\r\n",
    "\r\n",
    "def insert_node(data):\r\n",
    "    global node_A\r\n",
    "    new_node = Node(data)\r\n",
    "    node_P = node_A\r\n",
    "    node_T = node_A\r\n",
    "    while node_T.data <= data:\r\n",
    "        node_P = node_T\r\n",
    "        node_T = node_T.next\r\n",
    "    node_P.next = new_node\r\n",
    "    new_node.next = node_T\r\n",
    "    new_node.prev = node_P\r\n",
    "    node_T.prev = new_node\r\n",
    "\r\n",
    "def delete_node(del_data):\r\n",
    "    global node_A\r\n",
    "    pre_node = node_A\r\n",
    "    next_node = pre_node.next\r\n",
    "    next_next_node = next_node.next\r\n",
    "    if pre_node.data == del_data:\r\n",
    "        node_A = node_A.next\r\n",
    "        del pre_node\r\n",
    "        return\r\n",
    "    \r\n",
    "    while next_node:\r\n",
    "        if next_node.data == del_data:\r\n",
    "            next_next_node = next_node.next\r\n",
    "            pre_node.next = next_next_node\r\n",
    "            if next_next_node:\r\n",
    "                next_next_node.prev = pre_node\r\n",
    "            del next_node\r\n",
    "            return\r\n",
    "        pre_node = pre_node.next\r\n",
    "        next_node = next_node.next\r\n",
    "        next_next_node = next_next_node.next\r\n",
    "\r\n",
    "        \r\n",
    "\r\n",
    "def print_list():\r\n",
    "    global node_A\r\n",
    "    node = node_A\r\n",
    "    while node:\r\n",
    "        print(node.data)\r\n",
    "        node = node.next\r\n",
    "\r\n",
    "if __name__ == '__main__':\r\n",
    "    print('연결 리스트 초기화 후:')\r\n",
    "    init_list()\r\n",
    "    print_list()\r\n",
    "    print('노드 C의 추가 후:')\r\n",
    "    insert_node('C')\r\n",
    "    print_list()\r\n",
    "    print('노드 D의 삭제 후')\r\n",
    "    delete_node('D')\r\n",
    "    print_list()"
   ],
   "outputs": [
    {
     "output_type": "stream",
     "name": "stdout",
     "text": [
      "연결 리스트 초기화 후:\n",
      "A\n",
      "B\n",
      "D\n",
      "E\n",
      "노드 C의 추가 후:\n",
      "A\n",
      "B\n",
      "C\n",
      "D\n",
      "E\n",
      "노드 D의 삭제 후\n",
      "A\n",
      "B\n",
      "C\n",
      "E\n"
     ]
    }
   ],
   "metadata": {}
  },
  {
   "cell_type": "markdown",
   "source": [
    "# 스택(Stack)과 큐(Queue)"
   ],
   "metadata": {}
  },
  {
   "cell_type": "markdown",
   "source": [
    "## stack의 구현"
   ],
   "metadata": {}
  },
  {
   "cell_type": "code",
   "execution_count": 57,
   "source": [
    "# 스택(Stack)의 구현\r\n",
    "def push(item):\r\n",
    "    stack.append(item)\r\n",
    "\r\n",
    "def pop():\r\n",
    "    return stack.pop()\r\n",
    "\r\n",
    "if __name__ == '__main__':\r\n",
    "    stack = []\r\n",
    "    push(1)\r\n",
    "    push(2)\r\n",
    "    push(3)\r\n",
    "    push(4)\r\n",
    "    print('현재 stack의 모습')\r\n",
    "    print(stack)\r\n",
    "\r\n",
    "    while stack:\r\n",
    "        print('POP > {}'.format(pop()))"
   ],
   "outputs": [
    {
     "output_type": "stream",
     "name": "stdout",
     "text": [
      "현재 stack의 모습\n",
      "[1, 2, 3, 4]\n",
      "POP > 4\n",
      "POP > 3\n",
      "POP > 2\n",
      "POP > 1\n"
     ]
    }
   ],
   "metadata": {}
  },
  {
   "cell_type": "markdown",
   "source": [
    "## Queue의 구현"
   ],
   "metadata": {}
  },
  {
   "cell_type": "code",
   "execution_count": 59,
   "source": [
    "def put(item):\r\n",
    "    queue.append(item)\r\n",
    "\r\n",
    "def get():\r\n",
    "    return queue.pop(0)\r\n",
    "\r\n",
    "if __name__ == '__main__':\r\n",
    "    queue = [] # queue create\r\n",
    "    put(1)\r\n",
    "    put(2)\r\n",
    "    put(3)\r\n",
    "    put(4)\r\n",
    "\r\n",
    "    print('현재 queue의 모습')\r\n",
    "    print(queue)\r\n",
    "\r\n",
    "    while queue:\r\n",
    "        print('POP: {}'.format(get()))"
   ],
   "outputs": [
    {
     "output_type": "stream",
     "name": "stdout",
     "text": [
      "현재 queue의 모습\n",
      "[1, 2, 3, 4]\n",
      "POP: 1\n",
      "POP: 2\n",
      "POP: 3\n",
      "POP: 4\n"
     ]
    }
   ],
   "metadata": {}
  },
  {
   "cell_type": "markdown",
   "source": [
    "# 트리(Tree)\r\n",
    "           A\r\n",
    "         /   \\\r\n",
    "        B     C\r\n",
    "       / \\   / \\\r\n",
    "      D   E F   G\r\n"
   ],
   "metadata": {}
  },
  {
   "cell_type": "code",
   "execution_count": 60,
   "source": [
    "# Tree 구조 자료형 만들기.\r\n",
    "\r\n",
    "class Node:\r\n",
    "    def __init__(self, data):\r\n",
    "        self.data = data\r\n",
    "        self.left = None\r\n",
    "        self.right = None"
   ],
   "outputs": [],
   "metadata": {}
  },
  {
   "cell_type": "code",
   "execution_count": 67,
   "source": [
    "# 노드를 생성하고 이진 트리(binary tree, 그 중에서도 정 이진 트리; full binary tree) 형태를 갖도록 초기화.\r\n",
    "def init_tree():\r\n",
    "    global root\r\n",
    "\r\n",
    "    new_node = Node('A')\r\n",
    "    root = new_node\r\n",
    "    new_node = Node('B')\r\n",
    "    root.left = new_node\r\n",
    "    new_node = Node('C')\r\n",
    "    root.right = new_node\r\n",
    "    new_node_1 = Node('D')\r\n",
    "    new_node_2 = Node('E')\r\n",
    "    node = root.left\r\n",
    "    node.left = new_node_1\r\n",
    "    node.right = new_node_2\r\n",
    "\r\n",
    "    new_node_1 = Node('F')\r\n",
    "    new_node_2 = Node('G')\r\n",
    "    node = root.right\r\n",
    "    node.left = new_node_1\r\n",
    "    node.right = new_node_2\r\n",
    "\r\n",
    "init_tree()"
   ],
   "outputs": [],
   "metadata": {}
  },
  {
   "cell_type": "markdown",
   "source": [
    "## 순회(Traverse) 알고리즘 1 of 4: 전위 순회 알고리즘(Pre-Order Traverse argoritms)\r\n",
    "* 가운데 노드를 먼저 방문하고 그 다음에는 왼쪽 노드를 방문하고 그리고 나서 오른쪽 노드를 방문하는 방법."
   ],
   "metadata": {}
  },
  {
   "cell_type": "code",
   "execution_count": 68,
   "source": [
    "def preorder_traverse(node):\r\n",
    "    if node == None: return\r\n",
    "    print(node.data, end ='->') if node.data != 'G' else print(node.data)\r\n",
    "    preorder_traverse(node.left)\r\n",
    "    preorder_traverse(node.right)\r\n",
    "\r\n",
    "preorder_traverse(root)"
   ],
   "outputs": [
    {
     "output_type": "stream",
     "name": "stdout",
     "text": [
      "A->B->D->E->C->F->G\n"
     ]
    }
   ],
   "metadata": {}
  },
  {
   "cell_type": "markdown",
   "source": [
    "## 순회(Traverse) 알고리즘 2 of 4: 중위 순회 알고리즘(In-Order Traverse argoritms)\r\n",
    "* 왼쪽 자식 노드를 방문하고 그 다음 부모 노드를 방문한 후 다시 오른쪽 자식 노드를 방문하는 알고리즘."
   ],
   "metadata": {}
  },
  {
   "cell_type": "code",
   "execution_count": 69,
   "source": [
    "def inorder_traverse(node):\r\n",
    "    if node == None: return\r\n",
    "    inorder_traverse(node.left)\r\n",
    "    print(node.data, end='->') if node.data != 'G' else print(node.data)\r\n",
    "    inorder_traverse(node.right)\r\n",
    "\r\n",
    "inorder_traverse(root)"
   ],
   "outputs": [
    {
     "output_type": "stream",
     "name": "stdout",
     "text": [
      "D->B->E->A->F->C->G\n"
     ]
    }
   ],
   "metadata": {}
  },
  {
   "cell_type": "markdown",
   "source": [
    "## 순회(Traverse) 알고리즘 3 of 4: 후위 순회 알고리즘(Post-Order argoritms)\r\n",
    "* 중위 순회 알고리즘이 '왼쪽 자식 노드를 방문하고 그 다음 부모 노드를 방문한 후 다시 오른쪽 자식 노드를 방문'하는 알고리즘이었다면,\r\n",
    "* 후위 순회 알고리즘은 왼쪽 자식 노드를 방문하고, 그 다음 오른쪽 자식 노드를 방문한 후에 마지막으로 부모 노드를 방문한 알고리즘이다."
   ],
   "metadata": {}
  },
  {
   "cell_type": "code",
   "execution_count": 72,
   "source": [
    "def postorder_traverse(node):\r\n",
    "    if node==None: return\r\n",
    "    postorder_traverse(node.left)\r\n",
    "    postorder_traverse(node.right)\r\n",
    "    print(node.data, end='->') if node.data != 'A' else print(node.data)\r\n",
    "\r\n",
    "postorder_traverse(root)"
   ],
   "outputs": [
    {
     "output_type": "stream",
     "name": "stdout",
     "text": [
      "D->E->B->F->G->C->A\n"
     ]
    }
   ],
   "metadata": {}
  },
  {
   "cell_type": "markdown",
   "source": [
    "## 순회(Traverse) 알고리즘 4 of 4: 단계 순회 알고리즘(Level-Order argoritms)\r\n",
    "* 단계 순회 알고리즘은 루트 노드부터 단계 순서대로 왼쪽부터 오른쪽으로 방문한느 순회 알고리즘이다.\r\n",
    "* 따라서 단계 순회 알고리즘의 경우는 stack을 사용하기 어렵고, queue를 사용하는 것이 더 바람직하다."
   ],
   "metadata": {}
  },
  {
   "cell_type": "code",
   "execution_count": 78,
   "source": [
    "levelq = []\r\n",
    "\r\n",
    "def levelorder_traverse(node):\r\n",
    "    global levelq\r\n",
    "    levelq.append(node)\r\n",
    "    while len(levelq) != 0:\r\n",
    "        # visit\r\n",
    "        visit_node = levelq.pop(0)\r\n",
    "        print(visit_node.data, end='->') if visit_node.data != 'G' else print(visit_node.data)\r\n",
    "\r\n",
    "        #child put\r\n",
    "        if visit_node.left != None:\r\n",
    "            levelq.append(visit_node.left)\r\n",
    "        if visit_node.right != None:\r\n",
    "            levelq.append(visit_node.right)\r\n",
    "\r\n",
    "levelorder_traverse(root)"
   ],
   "outputs": [
    {
     "output_type": "stream",
     "name": "stdout",
     "text": [
      "A->B->C->D->E->F->G\n"
     ]
    }
   ],
   "metadata": {}
  },
  {
   "cell_type": "markdown",
   "source": [
    "# 순회(Traverse) 알고리즘 전체 코드"
   ],
   "metadata": {}
  },
  {
   "cell_type": "code",
   "execution_count": 80,
   "source": [
    "# 트리에서 사용할 노드(Node) 클래스의 선언\r\n",
    "class Node:\r\n",
    "    def __init__(self, data):\r\n",
    "        self.data = data\r\n",
    "        self.left = None\r\n",
    "        self.right = None\r\n",
    "\r\n",
    "# 전위 순회 알고리즘(Pre-order argoritms)\r\n",
    "def preorder_traverse(node):\r\n",
    "    if node == None: return\r\n",
    "    print(node.data, end='->') if node.data != 'G' else print(node.data)\r\n",
    "    preorder_traverse(node.left)\r\n",
    "    preorder_traverse(node.right)\r\n",
    "\r\n",
    "# 중위 순회 알고리즘(In-order argoritms)\r\n",
    "def inorder_traverse(node):\r\n",
    "    if node == None: return\r\n",
    "    inorder_traverse(node.left)\r\n",
    "    print(node.data, end='->') if node.data != 'G' else print(node.data)\r\n",
    "    inorder_traverse(node.right)\r\n",
    "\r\n",
    "# 후위 순회 알고리즘(Post-order argoritms)\r\n",
    "def postorder_traverse(node):\r\n",
    "    if node == None: return\r\n",
    "    postorder_traverse(node.left)\r\n",
    "    postorder_traverse(node.right)\r\n",
    "    print(node.data, end='->') if node.data != 'A' else print(node.data)\r\n",
    "\r\n",
    "# 단위 순회 알고리즘(Level-order Traverse)\r\n",
    "def levelorder_traverse(node):\r\n",
    "    global levelq\r\n",
    "    levelq.append(node)\r\n",
    "    while len(levelq) != 0:\r\n",
    "        # visit\r\n",
    "        visit_node = levelq.pop(0)\r\n",
    "        print(visit_node.data, end='->') if visit_node.data != 'G' else print(visit_node.data)\r\n",
    "        # child put\r\n",
    "        if visit_node.left != None:\r\n",
    "            levelq.append(visit_node.left)\r\n",
    "        if visit_node.right != None:\r\n",
    "            levelq.append(visit_node.right)\r\n",
    "\r\n",
    "root = None\r\n",
    "\r\n",
    "# Tree의 초기화\r\n",
    "def init_tree():\r\n",
    "    global root\r\n",
    "    new_node = Node('A')\r\n",
    "    root = new_node\r\n",
    "    new_node = Node('B')\r\n",
    "    root.left = new_node\r\n",
    "    new_node = Node('C')\r\n",
    "    root.right = new_node\r\n",
    "    new_node_1 = Node('D')\r\n",
    "    new_node_2 = Node('E')\r\n",
    "    node = root.left\r\n",
    "    node.left = new_node_1\r\n",
    "    node.right = new_node_2\r\n",
    "    new_node_1 = Node('F')\r\n",
    "    new_node_2 = Node('G')\r\n",
    "    node = root.right\r\n",
    "    node.left = new_node_1\r\n",
    "    node.right = new_node_2\r\n",
    "\r\n",
    "# 하나씩 돌려 봅시다.\r\n",
    "if __name__ == '__main__':\r\n",
    "    init_tree()\r\n",
    "    print(\"<Pre-order Traverse>\")\r\n",
    "    preorder_traverse(root)\r\n",
    "    print('\\n')\r\n",
    "    print('<In-order Traverse>')\r\n",
    "    inorder_traverse(root)\r\n",
    "    print('\\n')\r\n",
    "    print('<Post-order Traverse>')\r\n",
    "    postorder_traverse(root)\r\n",
    "    print('\\n')\r\n",
    "    print('<Level-order Traverse>')\r\n",
    "    levelorder_traverse(root)\r\n",
    "    print('\\n')\r\n",
    "\r\n"
   ],
   "outputs": [
    {
     "output_type": "stream",
     "name": "stdout",
     "text": [
      "<Pre-order Traverse>\n",
      "A->B->D->E->C->F->G\n",
      "\n",
      "\n",
      "<In-order Traverse>\n",
      "D->B->E->A->F->C->G\n",
      "\n",
      "\n",
      "<Post-order Traverse>\n",
      "D->E->B->F->G->C->A\n",
      "\n",
      "\n",
      "<Level-order Traverse>\n",
      "A->B->C->D->E->F->G\n",
      "\n",
      "\n"
     ]
    }
   ],
   "metadata": {}
  },
  {
   "cell_type": "markdown",
   "source": [
    "# 선택 / 삽입 정렬 알고리즘"
   ],
   "metadata": {}
  },
  {
   "cell_type": "markdown",
   "source": [
    "## 선택 정렬 알고리즘(Selection Sort Argoritm)\r\n",
    "* 선택 정렬 알고리즘은 데이터의 처음부터 끝까지 훑어가면서 가장 작은 값을 찾은 후에 그 값을 첫 번째 데이터와 자리를 바꾸고, 그 다음으로 작은 값을 찾아서 두 번째 자리를 바꾸는 방법으로 구현되는 정렬 알고리즘이다."
   ],
   "metadata": {}
  },
  {
   "cell_type": "code",
   "execution_count": 1,
   "source": [
    "import random\r\n",
    "\r\n",
    "def selected_sort(random_list):\r\n",
    "    for sel in range(len(random_list) - 1):\r\n",
    "        min = random_list[sel]\r\n",
    "        minindex = sel\r\n",
    "        # find min value\r\n",
    "        for step in range(sel+1, len(random_list)):\r\n",
    "            if min > random_list[step]:\r\n",
    "                min = random_list[step]\r\n",
    "                minindex = step\r\n",
    "        # swap\r\n",
    "        random_list[minindex] = random_list[sel]\r\n",
    "        random_list[sel] = min\r\n",
    "\r\n",
    "if __name__ == '__main__':\r\n",
    "    list = []\r\n",
    "    for i in range(100):\r\n",
    "        list.append(random.randint(1,100))\r\n",
    "    print('<Before Sort>')\r\n",
    "    print(list)\r\n",
    "    selected_sort(list) # now sorting!\r\n",
    "    print('<After Sort>')\r\n",
    "    print(list)"
   ],
   "outputs": [
    {
     "output_type": "stream",
     "name": "stdout",
     "text": [
      "<Before Sort>\n",
      "[99, 70, 91, 92, 32, 42, 74, 43, 58, 4, 91, 47, 92, 6, 96, 16, 97, 16, 45, 35, 13, 48, 22, 41, 60, 42, 32, 99, 26, 67, 84, 33, 33, 52, 67, 88, 55, 78, 19, 26, 2, 16, 14, 28, 85, 48, 94, 26, 7, 81, 95, 47, 57, 28, 58, 19, 12, 88, 35, 14, 62, 96, 33, 31, 32, 79, 39, 70, 5, 84, 4, 7, 93, 62, 81, 32, 94, 7, 49, 81, 92, 76, 28, 42, 11, 1, 21, 92, 98, 87, 22, 88, 45, 88, 70, 9, 96, 72, 15, 51]\n",
      "<After Sort>\n",
      "[1, 2, 4, 4, 5, 6, 7, 7, 7, 9, 11, 12, 13, 14, 14, 15, 16, 16, 16, 19, 19, 21, 22, 22, 26, 26, 26, 28, 28, 28, 31, 32, 32, 32, 32, 33, 33, 33, 35, 35, 39, 41, 42, 42, 42, 43, 45, 45, 47, 47, 48, 48, 49, 51, 52, 55, 57, 58, 58, 60, 62, 62, 67, 67, 70, 70, 70, 72, 74, 76, 78, 79, 81, 81, 81, 84, 84, 85, 87, 88, 88, 88, 88, 91, 91, 92, 92, 92, 92, 93, 94, 94, 95, 96, 96, 96, 97, 98, 99, 99]\n"
     ]
    }
   ],
   "metadata": {}
  },
  {
   "cell_type": "markdown",
   "source": [
    "## 삽입 정렬 알고리즘(Insert Sort Argoritms)\r\n",
    "* 삽입 정렬 알고리즘은 선택 정렬 알고리즘과 상당히 비슷한 알고리즘이다. 선택 정렬 알고리즘이 정렬되지 않은 데이터 중 가장 작은 값을 찾아서 정렬을 하는 방식이라면, 삽입 정렬은 그러한 작은 값을 찾는 과정이 필요 없는 정렬 방식이다.\r\n",
    "* 카드 게임 할 때, 카드를 올바른 위치로 정리하는 것과 같다. 자료 배열의 모든 요소를 앞에서부터 차례대로 이미 정렬된 배열 부분과 비교."
   ],
   "metadata": {}
  },
  {
   "cell_type": "code",
   "execution_count": 2,
   "source": [
    "'''\r\n",
    "import random\r\n",
    "import time\r\n",
    "\r\n",
    "compare_counter = 0\r\n",
    "swap_counter = 0\r\n",
    "\r\n",
    "def insertion_sort(my_list):\r\n",
    "    global compare_counter, swap_counter\r\n",
    "    my_list.insert(0, -1) # insert(a, b)는 a번째 인덱스에 b값을 집어넣는다는 의미다.\r\n",
    "    for s_idx in range(2, len(my_list)):\r\n",
    "        temp = my_list[s_idx]\r\n",
    "        ins_idx = s_idx\r\n",
    "        compare_counter += 1\r\n",
    "        while my_list[ins_idx-1] > temp:\r\n",
    "            swap_counter += 1\r\n",
    "            my_list[ins_idx] = my_list[ins_idx - 1]\r\n",
    "            ins_idx = ins_idx - 1\r\n",
    "        \r\n",
    "        my_list[ins_idx] = temp\r\n",
    "    del my_list[0]\r\n",
    "\r\n",
    "if __name__ == '__main__':\r\n",
    "    list = []\r\n",
    "    input_n = input('정렬할 데이터의 수:')\r\n",
    "    for i in range(int(input_n)):\r\n",
    "        list.append(random.randint(1, int(input_n)))\r\n",
    "    \r\n",
    "    print('<정렬 전>')\r\n",
    "    print(list)\r\n",
    "\r\n",
    "    start_time = time.time()\r\n",
    "    insertion_sort(list)\r\n",
    "    running_time = time.time() - start_time\r\n",
    "    print('<정렬 후>')\r\n",
    "    print(list)\r\n",
    "\r\n",
    "    print('데이터의 크기: {}'.format(int(input_n)))\r\n",
    "    print('비교 횟수: {}'.format(compare_counter))\r\n",
    "    print('교환 횟수: {}'.format(swap_counter))\r\n",
    "    print('실행 시간: {}'.format(running_time))\r\n",
    "'''\r\n",
    "\r\n",
    "import random\r\n",
    "import time\r\n",
    "\r\n",
    "compare_counter = 0\r\n",
    "swap_counter = 0\r\n",
    "\r\n",
    "def insertion_sort(my_list):\r\n",
    "    global compare_counter, swap_counter\r\n",
    "    my_list.insert(0, -1)\r\n",
    "    for s_idx in range(2, len(my_list)):\r\n",
    "        temp = my_list[s_idx]\r\n",
    "        ins_idx = s_idx\r\n",
    "        compare_counter += 1\r\n",
    "        while my_list[ins_idx-1] > temp:\r\n",
    "            swap_counter += 1\r\n",
    "            my_list[ins_idx] = my_list[ins_idx-1]\r\n",
    "            ins_idx = ins_idx-1\r\n",
    "            print(my_list)\r\n",
    "        my_list[ins_idx] = temp\r\n",
    "    del my_list[0]\r\n",
    "\r\n",
    "if __name__ == '__main__':\r\n",
    "    list = []\r\n",
    "    input_n = input('정렬할 데이터의 수: ')\r\n",
    "    for i in range(int(input_n)):\r\n",
    "        list.append(random.randint(1,int(input_n)))\r\n",
    "    \r\n",
    "    print('<정렬 전>')\r\n",
    "    print(list)\r\n",
    "\r\n",
    "    insertion_sort(list)\r\n",
    "    print('<정렬 후>')\r\n",
    "    print(list)"
   ],
   "outputs": [
    {
     "output_type": "stream",
     "name": "stdout",
     "text": [
      "<정렬 전>\n",
      "[2, 10, 2, 4, 10, 8, 9, 1, 1, 10, 3, 2]\n",
      "[-1, 2, 10, 10, 4, 10, 8, 9, 1, 1, 10, 3, 2]\n",
      "[-1, 2, 2, 10, 10, 10, 8, 9, 1, 1, 10, 3, 2]\n",
      "[-1, 2, 2, 4, 10, 10, 10, 9, 1, 1, 10, 3, 2]\n",
      "[-1, 2, 2, 4, 10, 10, 10, 9, 1, 1, 10, 3, 2]\n",
      "[-1, 2, 2, 4, 8, 10, 10, 10, 1, 1, 10, 3, 2]\n",
      "[-1, 2, 2, 4, 8, 10, 10, 10, 1, 1, 10, 3, 2]\n",
      "[-1, 2, 2, 4, 8, 9, 10, 10, 10, 1, 10, 3, 2]\n",
      "[-1, 2, 2, 4, 8, 9, 10, 10, 10, 1, 10, 3, 2]\n",
      "[-1, 2, 2, 4, 8, 9, 9, 10, 10, 1, 10, 3, 2]\n",
      "[-1, 2, 2, 4, 8, 8, 9, 10, 10, 1, 10, 3, 2]\n",
      "[-1, 2, 2, 4, 4, 8, 9, 10, 10, 1, 10, 3, 2]\n",
      "[-1, 2, 2, 2, 4, 8, 9, 10, 10, 1, 10, 3, 2]\n",
      "[-1, 2, 2, 2, 4, 8, 9, 10, 10, 1, 10, 3, 2]\n",
      "[-1, 1, 2, 2, 4, 8, 9, 10, 10, 10, 10, 3, 2]\n",
      "[-1, 1, 2, 2, 4, 8, 9, 10, 10, 10, 10, 3, 2]\n",
      "[-1, 1, 2, 2, 4, 8, 9, 9, 10, 10, 10, 3, 2]\n",
      "[-1, 1, 2, 2, 4, 8, 8, 9, 10, 10, 10, 3, 2]\n",
      "[-1, 1, 2, 2, 4, 4, 8, 9, 10, 10, 10, 3, 2]\n",
      "[-1, 1, 2, 2, 2, 4, 8, 9, 10, 10, 10, 3, 2]\n",
      "[-1, 1, 2, 2, 2, 4, 8, 9, 10, 10, 10, 3, 2]\n",
      "[-1, 1, 1, 2, 2, 4, 8, 9, 10, 10, 10, 10, 2]\n",
      "[-1, 1, 1, 2, 2, 4, 8, 9, 10, 10, 10, 10, 2]\n",
      "[-1, 1, 1, 2, 2, 4, 8, 9, 10, 10, 10, 10, 2]\n",
      "[-1, 1, 1, 2, 2, 4, 8, 9, 9, 10, 10, 10, 2]\n",
      "[-1, 1, 1, 2, 2, 4, 8, 8, 9, 10, 10, 10, 2]\n",
      "[-1, 1, 1, 2, 2, 4, 4, 8, 9, 10, 10, 10, 2]\n",
      "[-1, 1, 1, 2, 2, 3, 4, 8, 9, 10, 10, 10, 10]\n",
      "[-1, 1, 1, 2, 2, 3, 4, 8, 9, 10, 10, 10, 10]\n",
      "[-1, 1, 1, 2, 2, 3, 4, 8, 9, 10, 10, 10, 10]\n",
      "[-1, 1, 1, 2, 2, 3, 4, 8, 9, 9, 10, 10, 10]\n",
      "[-1, 1, 1, 2, 2, 3, 4, 8, 8, 9, 10, 10, 10]\n",
      "[-1, 1, 1, 2, 2, 3, 4, 4, 8, 9, 10, 10, 10]\n",
      "[-1, 1, 1, 2, 2, 3, 3, 4, 8, 9, 10, 10, 10]\n",
      "<정렬 후>\n",
      "[1, 1, 2, 2, 2, 3, 4, 8, 9, 10, 10, 10]\n"
     ]
    }
   ],
   "metadata": {}
  },
  {
   "cell_type": "markdown",
   "source": [
    "* 삽입 정렬 알고리즘은 선택 정렬 알고리즘과 구조는 비슷하지만 약간 다른 부분이 있다.\r\n",
    "    * 먼저 for 문을 사용하여 첫 번째 데이터부터 마지막 데이터까지 반복문을 실행하면서 정렬 작업을 하는 것은 선택 정렬과 삽입 정렬이 동일하다.\r\n",
    "    * 단지 처음 시작을 배열의 첫번째 값을 my_list.insert(0, -1)과 같이 '-1' 값으로 저장하는 점이 다르다.\r\n",
    "    * 이와 같이 하는 이유는 정렬할 데이터가 0보다 같거나 큰 양수값이기 때문에 최소값을 설정하기 위함이다.\r\n",
    "    * for 문이 시작하면 정렬할 데이터가 저장되어 있는 리스트 my_list의 s_idx번째 데이터를 가져와서 변수 temp에 저장해 놓는다. 또한 현재의 s_idx를 변수 ins_idx에 저장한다.\r\n",
    "    * 그 다음의 while문을 실행하는데 while문을 보면 현재 my_list[ins_idx-1]과 temp 값을 비교하여 리스트 my_list에 있는 값이 현재 temp 값보다 크면 현재의 my_list를 한 칸 뒤로 이동한다. (my_list[ins_idx] = my_list[ins_idx-1])\r\n",
    "\r\n"
   ],
   "metadata": {}
  },
  {
   "cell_type": "markdown",
   "source": [
    "# 거품 / 셸 정렬 알고리즘"
   ],
   "metadata": {}
  },
  {
   "cell_type": "markdown",
   "source": [
    "## 거품 정렬 알고리즘(Bubble Sort Argorithm)"
   ],
   "metadata": {}
  },
  {
   "cell_type": "code",
   "execution_count": 11,
   "source": [
    "import random\r\n",
    "import time\r\n",
    "\r\n",
    "compare_counter = 0\r\n",
    "swap_counter = 0\r\n",
    "\r\n",
    "def bubble_sort(random_list):\r\n",
    "    for start_index in range(len(random_list) - 1):\r\n",
    "        for index in range(1, len(random_list) - start_index):\r\n",
    "            if random_list[index-1] > random_list[index]:\r\n",
    "                temp = random_list[index-1]\r\n",
    "                random_list[index - 1] = random_list[index]\r\n",
    "                random_list[index] = temp\r\n",
    "\r\n",
    "if __name__ == '__main__':\r\n",
    "    list = []\r\n",
    "    input_n = input('정렬할 데이터의 수: ')\r\n",
    "    for i in range(int(input_n)):\r\n",
    "        list.append(random.randint(1, int(input_n)))\r\n",
    "    print('<정렬 전>')\r\n",
    "    print(list)\r\n",
    "\r\n",
    "    start_time = time.time()\r\n",
    "    bubble_sort(list)\r\n",
    "    running_time = time.time() - start_time\r\n",
    "\r\n",
    "    print('<정렬 후>')\r\n",
    "    print(list)\r\n",
    "\r\n",
    "    print('데이터의 크기: {}'.format(int(input_n)))\r\n",
    "    print('비교 횟수 : {}'.format(compare_counter))\r\n",
    "    print('교환 횟수 : {}'.format(swap_counter))\r\n",
    "    print('실행 시간 : {}'.format(running_time))\r\n",
    "# 비교 횟수와 교환 횟수는 구현 안 함."
   ],
   "outputs": [
    {
     "output_type": "stream",
     "name": "stdout",
     "text": [
      "<정렬 전>\n",
      "[50, 17, 97, 43, 93, 93, 11, 62, 93, 81, 68, 68, 51, 60, 18, 30, 62, 21, 73, 85, 62, 44, 82, 57, 68, 51, 85, 51, 100, 50, 90, 42, 6, 63, 51, 22, 29, 85, 75, 76, 72, 33, 61, 44, 61, 61, 17, 17, 24, 2, 72, 25, 70, 74, 48, 8, 74, 73, 16, 91, 8, 29, 65, 87, 73, 94, 42, 52, 46, 32, 12, 10, 18, 89, 87, 84, 84, 85, 16, 15, 51, 57, 99, 14, 7, 53, 11, 76, 28, 26, 5, 63, 70, 66, 41, 52, 13, 19, 80, 58]\n",
      "<정렬 후>\n",
      "[2, 5, 6, 7, 8, 8, 10, 11, 11, 12, 13, 14, 15, 16, 16, 17, 17, 17, 18, 18, 19, 21, 22, 24, 25, 26, 28, 29, 29, 30, 32, 33, 41, 42, 42, 43, 44, 44, 46, 48, 50, 50, 51, 51, 51, 51, 51, 52, 52, 53, 57, 57, 58, 60, 61, 61, 61, 62, 62, 62, 63, 63, 65, 66, 68, 68, 68, 70, 70, 72, 72, 73, 73, 73, 74, 74, 75, 76, 76, 80, 81, 82, 84, 84, 85, 85, 85, 85, 87, 87, 89, 90, 91, 93, 93, 93, 94, 97, 99, 100]\n",
      "데이터의 크기: 100\n",
      "비교 횟수 : 0\n",
      "교환 횟수 : 0\n",
      "실행 시간 : 0.0009975433349609375\n"
     ]
    }
   ],
   "metadata": {}
  },
  {
   "cell_type": "markdown",
   "source": [
    "## 셸 정렬 알고리즘(Shell Sort Algorithm)"
   ],
   "metadata": {}
  },
  {
   "cell_type": "code",
   "execution_count": 6,
   "source": [
    "import random\r\n",
    "import time\r\n",
    "\r\n",
    "def shell_sort(random_list):\r\n",
    "    h = 1\r\n",
    "    while h < len(random_list):\r\n",
    "        h = h*3 + 1\r\n",
    "    h = h // 3\r\n",
    "    # 리스트를 h개씩 떨어져 보는 부분 리스트로 보려고 함.\r\n",
    "\r\n",
    "    while h > 0:\r\n",
    "        for i in range(h):\r\n",
    "            start_index = i + h\r\n",
    "\r\n",
    "            while start_index < len(random_list):\r\n",
    "                temp = random_list[start_index]\r\n",
    "                insert_index = start_index\r\n",
    "\r\n",
    "                while insert_index > h-1 and random_list[insert_index - h] > temp:\r\n",
    "                    random_list[insert_index] = random_list[insert_index - h]\r\n",
    "                    insert_index = insert_index - h\r\n",
    "                \r\n",
    "                random_list[insert_index] = temp\r\n",
    "                start_index = start_index + h\r\n",
    "        h = h // 3\r\n",
    "\r\n",
    "if __name__ == '__main__':\r\n",
    "    list = []\r\n",
    "    input_n = input('정렬할 데이터의 수: ')\r\n",
    "    for i in range(int(input_n)):\r\n",
    "        list.append(random.randint(1, int(input_n)))\r\n",
    "    \r\n",
    "    print('<정렬 전>')\r\n",
    "    print(list)\r\n",
    "\r\n",
    "    start_time = time.time()\r\n",
    "    shell_sort(list)\r\n",
    "    running_time = time.time() - start_time\r\n",
    "    print('<정렬 후>')\r\n",
    "    print(list)\r\n",
    "\r\n",
    "    print('데이터의 크기: {}'.format(int(input_n)))\r\n",
    "    print('실행 시간: {}'.format(running_time))"
   ],
   "outputs": [
    {
     "output_type": "stream",
     "name": "stdout",
     "text": [
      "<정렬 전>\n",
      "[20, 69, 97, 20, 61, 8, 24, 36, 70, 63, 20, 7, 87, 7, 32, 73, 29, 96, 57, 92, 24, 7, 2, 35, 72, 5, 27, 62, 27, 27, 42, 35, 43, 26, 31, 66, 74, 22, 71, 36, 66, 7, 12, 85, 45, 100, 47, 79, 99, 98, 40, 67, 20, 64, 58, 4, 14, 29, 43, 11, 59, 96, 30, 96, 6, 7, 11, 15, 8, 43, 69, 50, 67, 91, 98, 43, 5, 38, 4, 36, 61, 79, 4, 75, 43, 45, 89, 53, 4, 33, 67, 45, 22, 48, 35, 60, 33, 35, 49, 19]\n",
      "<정렬 후>\n",
      "[2, 4, 4, 4, 4, 5, 5, 6, 7, 7, 7, 7, 7, 8, 8, 11, 11, 12, 14, 15, 19, 20, 20, 20, 20, 22, 22, 24, 24, 26, 27, 27, 27, 29, 29, 30, 31, 32, 33, 33, 35, 35, 35, 35, 36, 36, 36, 38, 40, 42, 43, 43, 43, 43, 43, 45, 45, 45, 47, 48, 49, 50, 53, 57, 58, 59, 60, 61, 61, 62, 63, 64, 66, 66, 67, 67, 67, 69, 69, 70, 71, 72, 73, 74, 75, 79, 79, 85, 87, 89, 91, 92, 96, 96, 96, 97, 98, 98, 99, 100]\n",
      "데이터의 크기: 100\n",
      "실행 시간: 0.0009984970092773438\n"
     ]
    }
   ],
   "metadata": {}
  },
  {
   "cell_type": "markdown",
   "source": [
    "# 퀵 / 기수 정렬 알고리즘"
   ],
   "metadata": {}
  },
  {
   "cell_type": "markdown",
   "source": [
    "## 퀵 정렬 알고리즘(Quick Sort Argorithm)\r\n",
    "* 퀵 정렬 함수는 기존의 다른 정렬 함구와는 달리 재귀 호출을 사용한다. 재귀 호출을 사용하지 않고도 퀵 정렬 함수의 구현이 가능하지만 퀵 정렬의 특성상 재귀 호출을 사용하는 것이 훨씬 간단하다.\r\n",
    "* 퀵 정렬 알고리즘의 기본 구조는 한 놈을 골라서 그 놈을 기준으로 양쪽으로 나눠서 데이터를 정렬하는 방법이다. 또한 가르고 나서 다시 왼쪽 데이터들은 왼쪽대로, 오른쪽 데이터들은 오른쪽대로 나눠서 퀵 정렬 함수를 진행한다. 이러한 구조가 기본 구조이기 대문에 퀵 정렬 알고리즘은 재귀 호출을 사용하는 것이 더 간단하다.\r\n",
    "* 퀵 정렬 함수는 3개의 매개 변수를 사용한다. 첫 번째는 정렬할 데이터들이 저장되어 있는 리스트인 list이고, 두 번째는 왼쪽 인덱스를 가리키는 first, 마지막으로 오른쪽 인덱스를 가리키는 last이다.\r\n",
    "* 먼저 퀵 정렬 함수가 실행되면 변수 first가 변수 last보다 작은가를 검사한다. 이 부분이 퀵 정렬 함수가 재귀 호출될 때 재귀 호출을 끝내는 조건이 된다. first가 last보다 작으면 주어진 데이터를 2개 팀으로 나누는 역할을 하는 pivotMethod() 함수를 호출하여 중간값인 splitpoint를 구한다. 그리고 나서 왼쪽 팀은 first와 splitpoint-1의 구간으로, 오른쪽 팀은 splitpoint+1과 last의 구간으로 새로운 정렬 범위를 설정한다.\r\n",
    "* 퀵 정렬 알고리즘은 반복문을 하나만 사용하는 대신에 재귀호출을 사용하여 데이터를 2개 그룹으로 분할하여 정렬하는 방법을 사용한다.\r\n",
    "* 이러한 알고리즘을 분할 정복(Divide and Conquer) 알고리즘이라고 한다."
   ],
   "metadata": {}
  },
  {
   "cell_type": "code",
   "execution_count": 10,
   "source": [
    "import random\r\n",
    "import time\r\n",
    "\r\n",
    "compare_counter = 0\r\n",
    "swap_counter = 0\r\n",
    "\r\n",
    "def swap(x, i, j):\r\n",
    "    x[i], x[j] = x[j], x[i]\r\n",
    "\r\n",
    "def pivotFirst(x, lmark, rmark):\r\n",
    "    pivot_val = x[lmark]\r\n",
    "    pivot_idx = lmark\r\n",
    "    while lmark <= rmark:\r\n",
    "        while lmark <= rmark and x[lmark] <= pivot_val:\r\n",
    "            lmark += 1\r\n",
    "        while lmark <= rmark and x[rmark] >= pivot_val:\r\n",
    "            rmark -= 1\r\n",
    "        if lmark <= rmark:\r\n",
    "            swap(x, lamrk, rmark)\r\n",
    "            lmark += 1\r\n",
    "            rmark -= 1\r\n",
    "    swap(x, pivot_idx, rmark)\r\n",
    "    return rmark\r\n",
    "\r\n",
    "def quickSort(x, pivotMethod=pivotFirst):\r\n",
    "    def _qsort(x, first, last):\r\n",
    "        if first < last:\r\n",
    "            splitpoint = pivotMethod(x, first, last)\r\n",
    "            _qsort(x, first, splitpoint-1)\r\n",
    "            _qsort(x, splitpoint+1, last)\r\n",
    "            _qsort(x, 0, len(x)-1)\r\n",
    "\r\n",
    "if __name__ == '__main__':\r\n",
    "    list = []\r\n",
    "    input_n = input('정렬할 데이터의 수: ')\r\n",
    "    for i in range(int(input_n)):\r\n",
    "        list.append(random.randint(1, int(input_n)))\r\n",
    "    print('<정렬 전>')\r\n",
    "    print(list)\r\n",
    "\r\n",
    "    start_time = time.time()\r\n",
    "    quickSort(list)\r\n",
    "    running_time = time.time() - start_time\r\n",
    "\r\n",
    "    print('<정렬 후>')\r\n",
    "    print(list)\r\n",
    "\r\n",
    "\r\n",
    "    ### ????? 왜 안돼;;"
   ],
   "outputs": [
    {
     "output_type": "stream",
     "name": "stdout",
     "text": [
      "<정렬 전>\n",
      "[6, 10, 4, 2, 9, 7, 9, 1, 8, 1]\n",
      "<정렬 후>\n",
      "[6, 10, 4, 2, 9, 7, 9, 1, 8, 1]\n"
     ]
    }
   ],
   "metadata": {}
  },
  {
   "cell_type": "markdown",
   "source": [
    "## 기수 정렬 알고리즘(Radix Sort Argorithm)\r\n",
    "* 기수 정렬 알고리즘의 기본 개념은 자릿수로 데이터를 정렬한다는 것이다."
   ],
   "metadata": {}
  },
  {
   "cell_type": "code",
   "execution_count": 31,
   "source": [
    "from math import log10\r\n",
    "from random import randint\r\n",
    "\r\n",
    "def get_digit(number, base, pos):\r\n",
    "    return (number// base**pos) % base\r\n",
    "\r\n",
    "def prefix_sum(array):\r\n",
    "    for i in range(1, len(array)):\r\n",
    "        array[i] = array[i] + array[i-1]\r\n",
    "    return array\r\n",
    "\r\n",
    "def radixsort(l, base=10):\r\n",
    "    passes = int(log10(max(l))+1)\r\n",
    "    output = [0]*len(l)\r\n",
    "\r\n",
    "    for pos in range(passes):\r\n",
    "        count = [0]*base\r\n",
    "\r\n",
    "        for i in l:\r\n",
    "            digit = get_digit(i, base, pos)\r\n",
    "            count[digit] += 1\r\n",
    "        \r\n",
    "        count = prefix_sum(count)\r\n",
    "\r\n",
    "        for i in reversed(l):\r\n",
    "            digit = get_digit(i, base, pos)\r\n",
    "            count[digit] -= 1\r\n",
    "            new_pos = count[digit]\r\n",
    "            output[new_pos] = i\r\n",
    "        \r\n",
    "        l = output\r\n",
    "    return output\r\n",
    "\r\n",
    "if __name__ == '__main__':\r\n",
    "    l = []\r\n",
    "    l = [randint(1, 9999) for x in range(100)]\r\n",
    "    print('<정렬 전>')\r\n",
    "    print(l)\r\n",
    "\r\n",
    "    sorted = radixsort(l)\r\n",
    "    print('<정렬 후>')\r\n",
    "    print(sorted)\r\n",
    "\r\n",
    "    ### ????"
   ],
   "outputs": [
    {
     "output_type": "stream",
     "name": "stdout",
     "text": [
      "<정렬 전>\n",
      "[9293, 8085, 9982, 4755, 9234, 3935, 308, 4707, 7134, 5916, 5519, 238, 9636, 2381, 571, 1252, 3840, 9451, 5507, 3006, 9446, 3130, 239, 5760, 6307, 3018, 4179, 8940, 277, 5578, 7211, 7414, 8548, 7388, 3360, 8644, 2332, 5724, 7369, 9386, 7669, 7058, 6128, 4090, 1918, 2668, 3093, 7233, 1389, 2223, 187, 4919, 8646, 5530, 2126, 7752, 3935, 765, 7423, 9578, 6394, 3162, 8826, 3526, 4250, 9818, 2094, 3696, 6796, 2315, 2875, 4698, 1450, 9567, 7451, 8224, 3282, 4106, 1748, 4919, 9945, 3811, 9066, 2963, 9533, 2394, 7242, 337, 4373, 9649, 1220, 4015, 5201, 7736, 6870, 1430, 1750, 8943, 7028, 6956]\n",
      "<정렬 후>\n",
      "[1389, 1389, 1389, 1389, 1389, 1389, 1389, 1389, 1389, 1389, 1389, 1389, 1389, 1389, 1389, 1389, 1389, 1389, 1389, 1389, 1389, 1389, 1389, 1389, 1389, 1389, 1389, 1389, 1389, 1389, 1389, 1389, 1389, 1389, 1389, 1389, 1389, 1389, 1389, 1389, 1389, 1389, 1389, 1389, 1389, 1389, 1389, 1389, 1389, 1389, 1389, 1389, 1389, 1389, 1389, 1389, 1389, 1389, 1389, 1389, 1389, 1389, 1389, 1389, 1389, 1389, 1389, 1389, 1389, 1389, 1389, 1389, 1389, 1389, 1389, 1389, 1389, 1389, 1389, 1389, 1389, 1389, 1389, 1389, 1389, 1389, 1389, 1389, 1389, 1389, 1389, 1389, 1389, 1389, 1389, 1389, 1389, 1389, 1389, 1389]\n"
     ]
    }
   ],
   "metadata": {}
  },
  {
   "cell_type": "markdown",
   "source": [
    "# 병합/힙 정렬 알고리즘"
   ],
   "metadata": {}
  },
  {
   "cell_type": "markdown",
   "source": [
    "## 병합 정렬 알고리즘(Merge Sort Argorithm)\r\n",
    "* 기존의 정렬 알고리즘과는 달리 병합 정렬 알고리즘은 이미 정렬되어 있는 데이터들을 하나로 합쳐서 정렬하는 방법이다.\r\n",
    "* 이러한 정렬 방법은 데이터들을 정렬하는 경우에도 사용되지만 파일에 정렬되어 있는 데이터들을 하나로 합쳐서 정렬하는 경우에도 종종 사용된다.\r\n",
    "* 병합 정렬 알고리즘의 탄생 배경은 테입 드라이브 시절로 거슬러 올라간다.\r\n",
    "* 테입 드라이브의 특징은 데이터를 처음부터 순차적으로 읽어야 한다는 점이다. 당시 다른 저장장치보다 많은 데이터를 저장할 수 있었지만 순차적인 방식으로만 사용이 가능했다.\r\n",
    "* 이 때문에 테입 드라이브 안에 저장된 데이터들을 정렬한다는 것은 매우 어려운 일이다.\r\n",
    "* 이러한 제약점으로 인해 지금부터 다루게 될 병합 정렬 알고리즘이 탄생했다.\r\n",
    "* 병합 정렬 알고리즘의 특징은 이미 정렬되어 있는 데이터의 그룹 혹은 묶음들을 하나로 합칠 때 사용하는 방법이 된다."
   ],
   "metadata": {}
  },
  {
   "cell_type": "code",
   "execution_count": 26,
   "source": [
    "from math import log10\r\n",
    "from random import randint\r\n",
    "\r\n",
    "def merge_sort(mylist):\r\n",
    "    if len(mylist) <= 1: return mylist\r\n",
    "    half = len(mylist) // 2\r\n",
    "    left_list = merge_sort(mylist[:half])\r\n",
    "    right_list = merge_sort(mylist[half:])\r\n",
    "    merged_list = []\r\n",
    "\r\n",
    "    while len(left_list) > 0 and len(right_list) > 0:\r\n",
    "        if left_list[0] > right_list[0]:\r\n",
    "            merged_list.append(right_list[0])\r\n",
    "            right_list.pop(0)\r\n",
    "        else:\r\n",
    "            merged_list.append(left_list[0])\r\n",
    "            left_list.pop(0)\r\n",
    "    if len(left_list) > 0: merged_list += left_list\r\n",
    "    if len(right_list) > 0: merged_list += right_list\r\n",
    "    return merged_list\r\n",
    "\r\n",
    "if __name__ == '__main__':\r\n",
    "    data = []\r\n",
    "    input_n = input('정렬할 데이터의 수: ')\r\n",
    "    data = [randint(1, 99999) for x in range(int(input_n))]\r\n",
    "\r\n",
    "    print('<정렬 전>')\r\n",
    "    print(data)\r\n",
    "\r\n",
    "    sorted_data = merge_sort(data)\r\n",
    "\r\n",
    "    print('<정렬 후>')\r\n",
    "    print(sorted_data)"
   ],
   "outputs": [
    {
     "output_type": "stream",
     "name": "stdout",
     "text": [
      "<정렬 전>\n",
      "[98225, 86247, 94177, 78963, 43620, 96853, 57423, 66182, 20103, 96190, 57709, 46174, 6313, 16771, 79609, 41896, 11014, 90099, 70641, 57490, 53641, 45608, 7739, 37026, 18, 31171, 57510, 93101, 92312, 86764, 86000, 4647, 14542, 18594, 60794, 97755, 41173, 93787, 1654, 80067, 55663, 92194, 96590, 80155, 6251, 97219, 83597, 75547, 33657, 50166]\n",
      "<정렬 후>\n",
      "[18, 1654, 4647, 6251, 6313, 7739, 11014, 14542, 16771, 18594, 20103, 31171, 33657, 37026, 41173, 41896, 43620, 45608, 46174, 50166, 53641, 55663, 57423, 57490, 57510, 57709, 60794, 66182, 70641, 75547, 78963, 79609, 80067, 80155, 83597, 86000, 86247, 86764, 90099, 92194, 92312, 93101, 93787, 94177, 96190, 96590, 96853, 97219, 97755, 98225]\n"
     ]
    }
   ],
   "metadata": {}
  },
  {
   "cell_type": "markdown",
   "source": [
    "## 힙 정렬 알고리즘(Heap Sort Algoritm)\r\n",
    "* 힙 정렬 알고리즘은 우선순위 큐(Priority Queue)를 이용하여 우선순위에 따라 정렬을 하는 알고리즘이다.\r\n",
    "* 여기서 다루게 될 우선순위 큐는 앞서 다룬 큐와는 개념적으로 많은 차이가 있다. 이 두가지를 비슷한 개념으로 헷갈리면 안된다.\r\n",
    "* 다음은 힙 정렬 알고리즘의 전체 코드이다. UPHEAP이기 때문에 정렬은 내림차순으로 된다."
   ],
   "metadata": {}
  },
  {
   "cell_type": "code",
   "execution_count": 29,
   "source": [
    "import random\r\n",
    "from math import log10\r\n",
    "\r\n",
    "def left_node(idx=None):\r\n",
    "    return ((idx+1) << 1) - 1\r\n",
    "\r\n",
    "def right_node(idx=None):\r\n",
    "    return (idx + 1) << 1\r\n",
    "\r\n",
    "def up_heap(mylist=None, idx=None, heap_size=None):\r\n",
    "    l_node = left_node(idx)\r\n",
    "    r_node = right_node(idx)\r\n",
    "\r\n",
    "    if l_node <= heap_size and mylist[l_node] > mylist[idx]:\r\n",
    "        largest = l_node\r\n",
    "    else:\r\n",
    "        largest = idx\r\n",
    "    if r_node <= heap_size and mylist[r_node] > mylist[largest]:\r\n",
    "        largest = r_node\r\n",
    "    if largest != idx:\r\n",
    "        mylist[idx], mylist[largest] = mylist[largest], mylist[idx]\r\n",
    "        up_heap(mylist, largest, heap_size)\r\n",
    "\r\n",
    "def build_heap(mylist=None):\r\n",
    "    heap_size = len(mylist) - 1\r\n",
    "    for i in reversed(range(len(mylist) // 2)):\r\n",
    "        up_heap(mylist, i, heap_size)\r\n",
    "\r\n",
    "def heap_sort(heap=None):\r\n",
    "    tmp_arry = []\r\n",
    "    for i in range(len(heap)):\r\n",
    "        tmp_arry.append(heap.pop(0))\r\n",
    "        up_heap(heap, 0, len(heap) - 1)\r\n",
    "    return tmp_arry\r\n",
    "\r\n",
    "if __name__ == '__main__':\r\n",
    "    data = []\r\n",
    "    input_n = input('정렬할 데이터의 수: ')\r\n",
    "    data = [random.randint(1, 9999) for x in range(int(input_n))]\r\n",
    "\r\n",
    "    print('<정렬 전>')\r\n",
    "    print(data)\r\n",
    "\r\n",
    "    build_heap(data)\r\n",
    "\r\n",
    "    sorted_data = heap_sort(data)\r\n",
    "\r\n",
    "    print('<정렬 후>')\r\n",
    "    print(sorted_data)"
   ],
   "outputs": [
    {
     "output_type": "stream",
     "name": "stdout",
     "text": [
      "<정렬 전>\n",
      "[4732, 3986, 7059, 2660, 6963, 3112, 6776, 3913, 5508, 8344, 4587, 5624, 8669, 6344, 558, 9520, 6247, 1654, 1489, 9038, 9332, 3102, 7505, 4040, 5533, 6007, 2007, 1336, 5664, 6081, 2527, 4148, 6167, 4051, 9841, 1129, 2931, 9077, 2567, 4382, 581, 2230, 8007, 5794, 3019, 4846, 7418, 2514, 5392, 316]\n",
      "<정렬 후>\n",
      "[9841, 9520, 9332, 9077, 8669, 7059, 6776, 9038, 7505, 8344, 6963, 6344, 6081, 6167, 6007, 5624, 4732, 7418, 6247, 5794, 5533, 5508, 5392, 4051, 3986, 3112, 5664, 4148, 2567, 2527, 2931, 4382, 4587, 8007, 3913, 2660, 3102, 2230, 4040, 2514, 4846, 3019, 1654, 1129, 1336, 1489, 2007, 581, 558, 316]\n"
     ]
    }
   ],
   "metadata": {}
  },
  {
   "cell_type": "markdown",
   "source": [
    "# 이진 검색 알고리즘(Binary Search Algorithm)"
   ],
   "metadata": {}
  },
  {
   "cell_type": "code",
   "execution_count": null,
   "source": [
    "from match import log10\r\n",
    "from random import randint\r\n",
    "\r\n"
   ],
   "outputs": [],
   "metadata": {}
  }
 ],
 "metadata": {
  "orig_nbformat": 4,
  "language_info": {
   "name": "python",
   "version": "3.9.7",
   "mimetype": "text/x-python",
   "codemirror_mode": {
    "name": "ipython",
    "version": 3
   },
   "pygments_lexer": "ipython3",
   "nbconvert_exporter": "python",
   "file_extension": ".py"
  },
  "kernelspec": {
   "name": "python3",
   "display_name": "Python 3.9.7 64-bit (windows store)"
  },
  "interpreter": {
   "hash": "177280cfb69099cf3922bdc630e7a9acc572c5c46795b700d60661d1aabe8cb5"
  }
 },
 "nbformat": 4,
 "nbformat_minor": 2
}