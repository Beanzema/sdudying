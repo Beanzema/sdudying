{
 "cells": [
  {
   "cell_type": "code",
   "execution_count": 1,
   "source": [
    "n = 1260\r\n",
    "count = 0\r\n",
    "\r\n",
    "#큰 단위의 화폐부터 차례대로 확인\r\n",
    "list = [500, 100, 50, 10]\r\n",
    "\r\n",
    "for coin in list:\r\n",
    "    count += n // coin #해당 화폐로 거슬러 줄 수 있는 동전의 개수 세기. // 연산자의 의미는 정수 부분 몫 값을 취하는 것을 의미함.\r\n",
    "    n %= coin\r\n",
    "\r\n",
    "print(count)"
   ],
   "outputs": [
    {
     "output_type": "stream",
     "name": "stdout",
     "text": [
      "6\n"
     ]
    }
   ],
   "metadata": {}
  },
  {
   "cell_type": "code",
   "execution_count": 3,
   "source": [
    "# N, M, K를 공백으로 구분하여 입력받기\r\n",
    "n, m, k = map(int, input().split())\r\n",
    "\r\n",
    "# N개의 수를 공백으로 구분하여 입력받기\r\n",
    "data = list(map(int, input().split()))\r\n",
    "\r\n",
    "data.sort() # 입력 받은 수들 정렬하기\r\n",
    "first = data[n-1] #가장 큰 수\r\n",
    "second = data[n-2] #두 번째로 큰 수\r\n",
    "\r\n",
    "result = 0\r\n",
    "\r\n",
    "while True:\r\n",
    "    for i in range(k): #가장 큰 수를 K번 더하기\r\n",
    "        if m == 0: # m이 0이 되면 탈출\r\n",
    "            break\r\n",
    "        result += first\r\n",
    "        m -= 1 #더할 때 마다 1씩 빼기\r\n",
    "    if m == 0: # m이 0이라면 반복문 탈출\r\n",
    "        break\r\n",
    "    result += second #두 번째로 큰 수를 한 번 더하기\r\n",
    "    m -= 1 # 더할 때마다 1씩 빼기\r\n",
    "\r\n",
    "print(result) #최종 답안 출력"
   ],
   "outputs": [
    {
     "output_type": "stream",
     "name": "stdout",
     "text": [
      "46\n"
     ]
    }
   ],
   "metadata": {}
  },
  {
   "cell_type": "code",
   "execution_count": 4,
   "source": [
    "# n, m, k를 공백으로 구분하여 입력받기\r\n",
    "n, m, k = map(int, input().split())\r\n",
    "# n개의 수를 공백으로 구분하여 입력받기\r\n",
    "data = list(map(int, input().split()))\r\n",
    "\r\n",
    "data.sort() # 입력받은 수 정렬\r\n",
    "first = data[n-1] # 가장 큰 수\r\n",
    "second = data[n-2] # 두 번째로 큰 수\r\n",
    "\r\n",
    "# 가장 큰 수가 더해지는 횟수 계산\r\n",
    "count = int(m / (k + 1)) * k\r\n",
    "count += m % (k + 1)\r\n",
    "\r\n",
    "result = 0\r\n",
    "result += count * first # 가장 큰 수 더하기\r\n",
    "result4 += (m - count) * second # 두 번째로 큰 수 더하기\r\n",
    "\r\n",
    "print(result)"
   ],
   "outputs": [
    {
     "output_type": "stream",
     "name": "stdout",
     "text": [
      "46\n"
     ]
    }
   ],
   "metadata": {}
  },
  {
   "cell_type": "code",
   "execution_count": 1,
   "source": [
    "# m, n을 공백으로 구분하여 입력받기\r\n",
    "n, m = map(int, input().split())\r\n",
    "result = 0\r\n",
    "# 한 줄씩 입력받아 확인\r\n",
    "for i in range(n):\r\n",
    "    data = list(map(int, input().split()))\r\n",
    "    # 현재 줄에서 '가장 작은 수' 찾기\r\n",
    "    min_value = min(data)\r\n",
    "    # '가장 작은 수'들 중에서 가장 큰 수 찾기\r\n",
    "    result = max(result, min_value)\r\n",
    "\r\n",
    "print(result)"
   ],
   "outputs": [
    {
     "output_type": "stream",
     "name": "stdout",
     "text": [
      "2\n"
     ]
    }
   ],
   "metadata": {}
  },
  {
   "cell_type": "markdown",
   "source": [
    "py 2중 반복문 구조를 이용하는 답안 예시"
   ],
   "metadata": {}
  },
  {
   "cell_type": "code",
   "execution_count": 1,
   "source": [
    "# n, m을 공백으로 구분하여 입력받기\r\n",
    "n, m = map(int, input().split())\r\n",
    "\r\n",
    "result = 0\r\n",
    "# 한 줄씩 입력받아 확인\r\n",
    "for i in range(n):\r\n",
    "    data = list(map(int,input().split()))\r\n",
    "    #현재 줄에서 '가장 작은 수' 찾기\r\n",
    "    min_value = 10001\r\n",
    "    for a in data:\r\n",
    "        min_value = min(min_value, a)\r\n",
    "    # '가장 작은 수'들 중에서 가장 큰 수 찾기\r\n",
    "    result = max(result, min_value)\r\n",
    "\r\n",
    "print(result) # 최종 답안 출력"
   ],
   "outputs": [
    {
     "output_type": "stream",
     "name": "stdout",
     "text": [
      "3\n"
     ]
    }
   ],
   "metadata": {}
  },
  {
   "cell_type": "code",
   "execution_count": 2,
   "source": [
    "n, k = map(int, input().split())\r\n",
    "result = 0\r\n",
    "\r\n",
    "# n이 k 이상이라면 k로 계속 나누기\r\n",
    "while n >= k:\r\n",
    "    # n이 k로 나누어 떨어지지 않는다면 n에서 1씩 빼기\r\n",
    "    while n % k != 0:\r\n",
    "        n -= 1\r\n",
    "        result += 1\r\n",
    "    # k로 나누기\r\n",
    "    n //= k\r\n",
    "    result += 1\r\n",
    "\r\n",
    "# 마지막으로 남은 수에 대하여 1씩 빼기\r\n",
    "while n > 1:\r\n",
    "    n -= 1\r\n",
    "    result += 1\r\n",
    "\r\n",
    "print(result)"
   ],
   "outputs": [
    {
     "output_type": "stream",
     "name": "stdout",
     "text": [
      "6\n"
     ]
    }
   ],
   "metadata": {}
  },
  {
   "cell_type": "code",
   "execution_count": null,
   "source": [
    "# n, k를 공백으로 구분하여 입력하기\r\n",
    "n, k = map(int, input().split())\r\n",
    "result = 0\r\n",
    "\r\n",
    "while True:\r\n",
    "    # (n == k로 나누어 떨어지는 수)가 될 때까지 1씩 빼기\r\n",
    "    target = (n // k) * k\r\n",
    "    result += (n - target)\r\n",
    "    n = target\r\n",
    "    # n이 k보다 작을 때(더 이상 나눌 수 없을 때 반복문 탈출)\r\n",
    "    if n < k:\r\n",
    "        break\r\n",
    "    # k로 나누기\r\n",
    "    result += 1\r\n",
    "    n //= k\r\n",
    "\r\n",
    "# 마지막으로 남은 수에 대하여 1씩 빼기\r\n",
    "result += (n-1)\r\n",
    "print(result)"
   ],
   "outputs": [],
   "metadata": {}
  }
 ],
 "metadata": {
  "orig_nbformat": 4,
  "language_info": {
   "name": "python",
   "version": "3.8.8",
   "mimetype": "text/x-python",
   "codemirror_mode": {
    "name": "ipython",
    "version": 3
   },
   "pygments_lexer": "ipython3",
   "nbconvert_exporter": "python",
   "file_extension": ".py"
  },
  "kernelspec": {
   "name": "python3",
   "display_name": "Python 3.8.8 64-bit ('base': conda)"
  },
  "interpreter": {
   "hash": "2346a11a15bd85cc3c2181d25c7e23d6d4f5f51a62f8dc73ff2a7ca497e6245f"
  }
 },
 "nbformat": 4,
 "nbformat_minor": 2
}