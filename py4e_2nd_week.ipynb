{
 "metadata": {
  "language_info": {
   "codemirror_mode": {
    "name": "ipython",
    "version": 3
   },
   "file_extension": ".py",
   "mimetype": "text/x-python",
   "name": "python",
   "nbconvert_exporter": "python",
   "pygments_lexer": "ipython3",
   "version": "3.8.8"
  },
  "orig_nbformat": 4,
  "kernelspec": {
   "name": "python3",
   "display_name": "Python 3.8.8 64-bit ('base': conda)"
  },
  "interpreter": {
   "hash": "2346a11a15bd85cc3c2181d25c7e23d6d4f5f51a62f8dc73ff2a7ca497e6245f"
  }
 },
 "nbformat": 4,
 "nbformat_minor": 2,
 "cells": [
  {
   "cell_type": "code",
   "execution_count": 1,
   "source": [
    "import random\r\n",
    "\r\n",
    "my = input(\"안 내면 진거 가위 바위 보: \")\r\n",
    "print(\"나: \", my)\r\n",
    "if my == \"가위\":\r\n",
    "    my = 0\r\n",
    "elif my == \"바위\":\r\n",
    "    my = 1\r\n",
    "elif my == \"보\":\r\n",
    "    my = 2\r\n",
    "else:\r\n",
    "    my = 3\r\n",
    "computer = random.randint(0,2)\r\n",
    "print(\"컴퓨터:\",end='')\r\n",
    "if computer == 0:\r\n",
    "     print(\"가위\")\r\n",
    "elif computer == 1:\r\n",
    "    print(\"바위\")\r\n",
    "elif computer == 2:\r\n",
    "    print(\"보\")\r\n",
    "\r\n",
    "if (computer-my) == 0:\r\n",
    "    print(\"비겼습니다!\")\r\n",
    "elif ((computer-my) == 1) or ((computer-my) == -2):\r\n",
    "    print(\"컴퓨터 승리!\")\r\n",
    "elif ((my-computer) == 1) or ((my-computer) == -2):\r\n",
    "    print(\"당신의 승리!\")"
   ],
   "outputs": [
    {
     "output_type": "stream",
     "name": "stdout",
     "text": [
      "나:  가위\n",
      "컴퓨터:보\n",
      "당신의 승리!\n"
     ]
    }
   ],
   "metadata": {}
  },
  {
   "cell_type": "code",
   "execution_count": 2,
   "source": [
    "monthly_payment = int(input(\"세전 월급이 얼마신가요?: (만원 단위 정수 입력)\"))\r\n",
    "yearly_payment = 12*monthly_payment\r\n",
    "\r\n",
    "print(\"세전 연봉: \", yearly_payment,\"만원\", sep=\"\")\r\n",
    "print(\"세후 연봉: \", end=\"\")\r\n",
    "if yearly_payment <= 1200:\r\n",
    "    yearly_payment *= (1-0.06)\r\n",
    "elif yearly_payment <= 4600:\r\n",
    "    yearly_payment *= (1-0.15)\r\n",
    "elif yearly_payment <= 8800:\r\n",
    "    yearly_payment *= (1-0.24)\r\n",
    "elif yearly_payment <= 15000:\r\n",
    "    yearly_payment *= (1-0.35)\r\n",
    "elif yearly_payment <= 30000:\r\n",
    "    yearly_payment *= (1-0.38)\r\n",
    "elif yearly_payment <= 50000:\r\n",
    "    yearly_payment *= (1-0.40)\r\n",
    "else:\r\n",
    "    yearly_payment *= (1-0.42)\r\n",
    "print(int(yearly_payment),\"만원\",sep=\"\")"
   ],
   "outputs": [
    {
     "output_type": "stream",
     "name": "stdout",
     "text": [
      "세전 연봉: 3600만원\n",
      "세후 연봉: 3060만원\n"
     ]
    }
   ],
   "metadata": {}
  },
  {
   "cell_type": "code",
   "execution_count": null,
   "source": [
    "s_name = input(\"학생의 이름 입력: \")\n",
    "s_grade = int(input(\"위 학생 성적 입력: \"))\n",
    "s_alphbet = \"F\"\n",
    "\n",
    "print(\"학생이름 : \",s_name,sep=\"\")\n",
    "print(\"점수 : \",s_grade,\"점\",sep=\"\")\n",
    "\n",
    "if s_grade >= 95:\n",
    "    s_alphbet = \"A+\"\n",
    "elif s_grade >= 90:\n",
    "    s_alphbet = \"A\"\n",
    "elif s_grade >= 85:\n",
    "    s_alphbet = \"B+\"\n",
    "elif s_grade >= 80:\n",
    "    s_alphbet = \"B\"\n",
    "elif s_grade >= 75:\n",
    "    s_alphbet = \"C+\"\n",
    "elif s_grade >= 70:\n",
    "    s_alphbet = \"C\"\n",
    "elif s_grade >= 65:\n",
    "    s_alphbet = \"D+\"\n",
    "elif s_grade >= 60:\n",
    "    s_alphbet = \"D\"\n",
    "\n",
    "print(\"학점 : \",s_alphbet,sep=\"\")"
   ],
   "outputs": [],
   "metadata": {}
  },
  {
   "cell_type": "code",
   "execution_count": null,
   "source": [
    "age = int(input(\"나이 입력: \"))\n",
    "pay_way = input(\"지불 방식 입력(현금 또는 카드): \")\n",
    "\n",
    "print(\"나이: %i 세\" %age)\n",
    "print(\"지불 유형: %s\" %pay_way)\n",
    "\n",
    "print(\"버스요금: \",end =\" \")\n",
    "if (age < 8) or (age >= 75):\n",
    "    print(\"0원(면제)\")\n",
    "elif age < 14:\n",
    "    print(\"450원\")\n",
    "elif age < 20:\n",
    "    if pay_way == \"카드\":\n",
    "        print(\"720원\")\n",
    "    else:\n",
    "        print(\"1000원\")\n",
    "else:\n",
    "    if pay_way == \"카드\":\n",
    "        print(\"1200원\")\n",
    "    else:\n",
    "        print(\"1300원\")"
   ],
   "outputs": [],
   "metadata": {}
  }
 ]
}