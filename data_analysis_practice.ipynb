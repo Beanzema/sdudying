{
 "cells": [
  {
   "cell_type": "code",
   "execution_count": 8,
   "source": [
    "import os\r\n",
    "\r\n",
    "base_url = 'https://raw.githubusercontent.com/practical-jupyter/sample-data/master/anime/'\r\n",
    "anime_csv = os.path.join(base_url, 'anime.csv')\r\n",
    "\r\n",
    "print(anime_csv)"
   ],
   "outputs": [
    {
     "output_type": "stream",
     "name": "stdout",
     "text": [
      "https://raw.githubusercontent.com/practical-jupyter/sample-data/master/anime/anime.csv\n"
     ]
    }
   ],
   "metadata": {}
  },
  {
   "cell_type": "code",
   "execution_count": 9,
   "source": [
    "import numpy as np\r\n",
    "import pandas as pd\r\n",
    "\r\n",
    "anime_csv = os.path.join(base_url, 'anime.csv')\r\n",
    "pd.read_csv(anime_csv).head()"
   ],
   "outputs": [
    {
     "output_type": "execute_result",
     "data": {
      "text/plain": [
       "   anime_id                              name  ... rating members\n",
       "0     32281                    Kimi no Na wa.  ...   9.37  200630\n",
       "1      5114  Fullmetal Alchemist: Brotherhood  ...   9.26  793665\n",
       "2     28977                          Gintama°  ...   9.25  114262\n",
       "3      9253                       Steins;Gate  ...   9.17  673572\n",
       "4      9969                     Gintama&#039;  ...   9.16  151266\n",
       "\n",
       "[5 rows x 7 columns]"
      ],
      "text/html": [
       "<div>\n",
       "<style scoped>\n",
       "    .dataframe tbody tr th:only-of-type {\n",
       "        vertical-align: middle;\n",
       "    }\n",
       "\n",
       "    .dataframe tbody tr th {\n",
       "        vertical-align: top;\n",
       "    }\n",
       "\n",
       "    .dataframe thead th {\n",
       "        text-align: right;\n",
       "    }\n",
       "</style>\n",
       "<table border=\"1\" class=\"dataframe\">\n",
       "  <thead>\n",
       "    <tr style=\"text-align: right;\">\n",
       "      <th></th>\n",
       "      <th>anime_id</th>\n",
       "      <th>name</th>\n",
       "      <th>genre</th>\n",
       "      <th>type</th>\n",
       "      <th>episodes</th>\n",
       "      <th>rating</th>\n",
       "      <th>members</th>\n",
       "    </tr>\n",
       "  </thead>\n",
       "  <tbody>\n",
       "    <tr>\n",
       "      <th>0</th>\n",
       "      <td>32281</td>\n",
       "      <td>Kimi no Na wa.</td>\n",
       "      <td>Drama, Romance, School, Supernatural</td>\n",
       "      <td>Movie</td>\n",
       "      <td>1</td>\n",
       "      <td>9.37</td>\n",
       "      <td>200630</td>\n",
       "    </tr>\n",
       "    <tr>\n",
       "      <th>1</th>\n",
       "      <td>5114</td>\n",
       "      <td>Fullmetal Alchemist: Brotherhood</td>\n",
       "      <td>Action, Adventure, Drama, Fantasy, Magic, Mili...</td>\n",
       "      <td>TV</td>\n",
       "      <td>64</td>\n",
       "      <td>9.26</td>\n",
       "      <td>793665</td>\n",
       "    </tr>\n",
       "    <tr>\n",
       "      <th>2</th>\n",
       "      <td>28977</td>\n",
       "      <td>Gintama°</td>\n",
       "      <td>Action, Comedy, Historical, Parody, Samurai, S...</td>\n",
       "      <td>TV</td>\n",
       "      <td>51</td>\n",
       "      <td>9.25</td>\n",
       "      <td>114262</td>\n",
       "    </tr>\n",
       "    <tr>\n",
       "      <th>3</th>\n",
       "      <td>9253</td>\n",
       "      <td>Steins;Gate</td>\n",
       "      <td>Sci-Fi, Thriller</td>\n",
       "      <td>TV</td>\n",
       "      <td>24</td>\n",
       "      <td>9.17</td>\n",
       "      <td>673572</td>\n",
       "    </tr>\n",
       "    <tr>\n",
       "      <th>4</th>\n",
       "      <td>9969</td>\n",
       "      <td>Gintama&amp;#039;</td>\n",
       "      <td>Action, Comedy, Historical, Parody, Samurai, S...</td>\n",
       "      <td>TV</td>\n",
       "      <td>51</td>\n",
       "      <td>9.16</td>\n",
       "      <td>151266</td>\n",
       "    </tr>\n",
       "  </tbody>\n",
       "</table>\n",
       "</div>"
      ]
     },
     "metadata": {},
     "execution_count": 9
    }
   ],
   "metadata": {}
  },
  {
   "cell_type": "code",
   "execution_count": 1,
   "source": [
    "list_arr = list(range(5))\r\n",
    "print(list_arr)\r\n",
    "print(type(list_arr))"
   ],
   "outputs": [
    {
     "output_type": "stream",
     "name": "stdout",
     "text": [
      "[0, 1, 2, 3, 4]\n",
      "<class 'list'>\n"
     ]
    }
   ],
   "metadata": {}
  },
  {
   "cell_type": "code",
   "execution_count": 3,
   "source": [
    "import numpy as np\r\n",
    "np_arr = np.array(range(5))\r\n",
    "print(np_arr)\r\n",
    "print(type(np_arr))"
   ],
   "outputs": [
    {
     "output_type": "stream",
     "name": "stdout",
     "text": [
      "[0 1 2 3 4]\n",
      "<class 'numpy.ndarray'>\n"
     ]
    }
   ],
   "metadata": {}
  },
  {
   "cell_type": "code",
   "execution_count": 4,
   "source": [
    "arr = np.array([0, 1, 2, 3, 4], dtype=float)\r\n",
    "print(arr)\r\n",
    "print(arr.dtype)\r\n",
    "print(arr.astype(int))"
   ],
   "outputs": [
    {
     "output_type": "stream",
     "name": "stdout",
     "text": [
      "[0. 1. 2. 3. 4.]\n",
      "float64\n",
      "[0 1 2 3 4]\n"
     ]
    }
   ],
   "metadata": {}
  },
  {
   "cell_type": "code",
   "execution_count": 7,
   "source": [
    "list = [0, 1, 2, 3]\r\n",
    "arr = np.array(list)\r\n",
    "print(arr.ndim)\r\n",
    "print(arr.shape)\r\n",
    "\r\n",
    "list = [[0, 1, 2], [3, 4, 5]]\r\n",
    "arr = np.array(list)\r\n",
    "print(arr.ndim)\r\n",
    "print(arr.shape)"
   ],
   "outputs": [
    {
     "output_type": "stream",
     "name": "stdout",
     "text": [
      "1\n",
      "(4,)\n",
      "2\n",
      "(2, 3)\n"
     ]
    }
   ],
   "metadata": {}
  },
  {
   "cell_type": "code",
   "execution_count": 13,
   "source": [
    "arr = np.array([[0, 1, 2], [3, 4, 5]])\r\n",
    "print(\"arr.shape : {}\".format(arr.shape))\r\n",
    "print(\"배열 요소의 수 : {}\".format(arr.size))\r\n",
    "print(\"배열의 길이 : {}\".format(len(arr)))\r\n",
    "\r\n",
    "arr.shape = 3,2\r\n",
    "print(\"arr.shape : {}\".format(arr.shape))\r\n",
    "print(\"배열 요소의 수 : {}\".format(arr.size))\r\n",
    "print(\"배열의 길이 : {}\".format(len(arr)))"
   ],
   "outputs": [
    {
     "output_type": "stream",
     "name": "stdout",
     "text": [
      "arr.shape : (2, 3)\n",
      "배열 요소의 수 : 6\n",
      "배열의 길이 : 2\n",
      "arr.shape : (3, 2)\n",
      "배열 요소의 수 : 6\n",
      "배열의 길이 : 3\n"
     ]
    }
   ],
   "metadata": {}
  },
  {
   "cell_type": "code",
   "execution_count": 15,
   "source": [
    "x = np.arange(7)\r\n",
    "print(x)\r\n",
    "print(x[3])\r\n",
    "x[0] = 10\r\n",
    "print(x)"
   ],
   "outputs": [
    {
     "output_type": "stream",
     "name": "stdout",
     "text": [
      "[0 1 2 3 4 5 6]\n",
      "3\n",
      "[10  1  2  3  4  5  6]\n"
     ]
    }
   ],
   "metadata": {}
  },
  {
   "cell_type": "code",
   "execution_count": 21,
   "source": [
    "x = np.arange(1, 13, 1)\r\n",
    "x.shape = 3,4\r\n",
    "print(x)\r\n",
    "print(x[2, 3])"
   ],
   "outputs": [
    {
     "output_type": "stream",
     "name": "stdout",
     "text": [
      "[[ 1  2  3  4]\n",
      " [ 5  6  7  8]\n",
      " [ 9 10 11 12]]\n",
      "12\n",
      "배열의 길이 : 6\n"
     ]
    }
   ],
   "metadata": {}
  },
  {
   "cell_type": "code",
   "execution_count": 33,
   "source": [
    "x = np.arange(7)\r\n",
    "print(x)\r\n",
    "\r\n",
    "print(x[1:4])\r\n",
    "print(x[1:])\r\n",
    "print(x[:4])\r\n",
    "print(x[::2])\r\n",
    "\r\n",
    "x = np.arange(1, 13, 1)\r\n",
    "x.shape = 3, 4\r\n",
    "print(x)\r\n",
    "print(x[1:2, :2:3])\r\n",
    "print(x[1:, :2])\r\n",
    "\r\n",
    "x = np.arange(7)\r\n",
    "print(x)\r\n",
    "print(x < 3)\r\n",
    "print(x > 7)\r\n",
    "print(x[x < 3])\r\n",
    "print(x[x % 2 == 0])\r\n",
    "\r\n",
    "print(x[[1, 3, 5]])\r\n",
    "x = np.arange(1, 13, 1).reshape(3, 4)\r\n",
    "print(x)\r\n",
    "print(x[[0, 2]])\r\n",
    "print(x[1:2, 2])\r\n",
    "print(x[[0,2], 2])\r\n",
    "print(x[[0,2], :2])"
   ],
   "outputs": [
    {
     "output_type": "stream",
     "name": "stdout",
     "text": [
      "[0 1 2 3 4 5 6]\n",
      "[1 2 3]\n",
      "[1 2 3 4 5 6]\n",
      "[0 1 2 3]\n",
      "[0 2 4 6]\n",
      "[[ 1  2  3  4]\n",
      " [ 5  6  7  8]\n",
      " [ 9 10 11 12]]\n",
      "[[5]]\n",
      "[[ 5  6]\n",
      " [ 9 10]]\n",
      "[0 1 2 3 4 5 6]\n",
      "[ True  True  True False False False False]\n",
      "[False False False False False False False]\n",
      "[0 1 2]\n",
      "[0 2 4 6]\n",
      "[1 3 5]\n",
      "[[ 1  2  3  4]\n",
      " [ 5  6  7  8]\n",
      " [ 9 10 11 12]]\n",
      "[[ 1  2  3  4]\n",
      " [ 9 10 11 12]]\n",
      "[7]\n",
      "[ 3 11]\n",
      "[[ 1  2]\n",
      " [ 9 10]]\n"
     ]
    }
   ],
   "metadata": {}
  },
  {
   "cell_type": "code",
   "execution_count": 42,
   "source": [
    "import pandas as pd\r\n",
    "\r\n",
    "data = pd.Series([1, 2, 3, 4])\r\n",
    "print(data)\r\n",
    "print(type(data))\r\n",
    "print(data.values)\r\n",
    "print(type(data.values))\r\n",
    "data = pd.Series([1, 2, 3, 4], dtype = \"float\")\r\n",
    "print(data.dtype)\r\n",
    "data = pd.Series([1, 2, 3, 4], index=['a', 'b', 'c', 'd'])\r\n",
    "data['c'] = 5\r\n",
    "print(data)"
   ],
   "outputs": [
    {
     "output_type": "stream",
     "name": "stdout",
     "text": [
      "0    1\n",
      "1    2\n",
      "2    3\n",
      "3    4\n",
      "dtype: int64\n",
      "<class 'pandas.core.series.Series'>\n",
      "[1 2 3 4]\n",
      "<class 'numpy.ndarray'>\n",
      "float64\n",
      "a    1\n",
      "b    2\n",
      "c    5\n",
      "d    4\n",
      "dtype: int64\n",
      "{'china': 141500, 'japan': 12718, 'korea': 5180, 'usa': 32676}\n",
      "china    141500\n",
      "japan     12718\n",
      "korea      5180\n",
      "usa       32676\n",
      "dtype: int64\n"
     ]
    }
   ],
   "metadata": {}
  },
  {
   "cell_type": "code",
   "execution_count": 47,
   "source": [
    "population_dict = {\r\n",
    "    'china': 141500,\r\n",
    "    'japan': 12718,\r\n",
    "    'korea': 5180,\r\n",
    "    'usa': 32676\r\n",
    "}\r\n",
    "print(population_dict)\r\n",
    "population = pd.Series(population_dict)\r\n",
    "print(population)\r\n",
    "\r\n",
    "gdp_dict = {\r\n",
    "    'china': 1409250000,\r\n",
    "    'japan': 516700000,\r\n",
    "    'korea': 169320000,\r\n",
    "    'usa': 2041280000,\r\n",
    "}\r\n",
    "gdp = pd.Series(gdp_dict)\r\n",
    "print(gdp)\r\n",
    "\r\n",
    "country = pd.DataFrame({\r\n",
    "    'gdp': gdp,\r\n",
    "    'populaion': population\r\n",
    "})\r\n",
    "print(country)\r\n",
    "\r\n"
   ],
   "outputs": [
    {
     "output_type": "stream",
     "name": "stdout",
     "text": [
      "china    1409250000\n",
      "japan     516700000\n",
      "korea     169320000\n",
      "usa      2041280000\n",
      "dtype: int64\n",
      "              gdp  populaion\n",
      "china  1409250000     141500\n",
      "japan   516700000      12718\n",
      "korea   169320000       5180\n",
      "usa    2041280000      32676\n"
     ]
    }
   ],
   "metadata": {}
  },
  {
   "cell_type": "code",
   "execution_count": 56,
   "source": [
    "data = {\r\n",
    "    'country': ['china', 'japan', 'korea', 'usa'],\r\n",
    "    'gdp': [1409250000, 516700000, 169320000, 2041280000],\r\n",
    "    'population': [141500, 12718, 5180, 32676]\r\n",
    "}\r\n",
    "country = pd.DataFrame(data)\r\n",
    "country = country.set_index('country')\r\n",
    "print(country)\r\n",
    "print(country.shape)\r\n",
    "print(country.size)\r\n",
    "print(country.ndim)\r\n",
    "print(country.values)\r\n",
    "\r\n",
    "country.index.name = \"Country\"\r\n",
    "country.columns.name = \"Info\"\r\n",
    "print(country.index)\r\n",
    "print(country.columns)\r\n",
    "\r\n",
    "country.to_csv(\"./country.csv\")\r\n",
    "country.to_excel(\"./country.xlsx\")\r\n",
    "\r\n",
    "country = pd.read_csv(\"./country.csv\")\r\n",
    "country = pd.read_excel(\"./country.xlsx\")"
   ],
   "outputs": [
    {
     "output_type": "stream",
     "name": "stdout",
     "text": [
      "                gdp  population\n",
      "country                        \n",
      "china    1409250000      141500\n",
      "japan     516700000       12718\n",
      "korea     169320000        5180\n",
      "usa      2041280000       32676\n",
      "(4, 2)\n",
      "8\n",
      "2\n",
      "[[1409250000     141500]\n",
      " [ 516700000      12718]\n",
      " [ 169320000       5180]\n",
      " [2041280000      32676]]\n",
      "Index(['china', 'japan', 'korea', 'usa'], dtype='object', name='Country')\n",
      "Index(['gdp', 'population'], dtype='object', name='Info')\n"
     ]
    },
    {
     "output_type": "error",
     "ename": "PermissionError",
     "evalue": "[Errno 13] Permission denied: './country.csv'",
     "traceback": [
      "\u001b[1;31m---------------------------------------------------------------------------\u001b[0m",
      "\u001b[1;31mPermissionError\u001b[0m                           Traceback (most recent call last)",
      "\u001b[1;32m<ipython-input-56-dfee0fd0ffd4>\u001b[0m in \u001b[0;36m<module>\u001b[1;34m\u001b[0m\n\u001b[0;32m     17\u001b[0m \u001b[0mprint\u001b[0m\u001b[1;33m(\u001b[0m\u001b[0mcountry\u001b[0m\u001b[1;33m.\u001b[0m\u001b[0mcolumns\u001b[0m\u001b[1;33m)\u001b[0m\u001b[1;33m\u001b[0m\u001b[1;33m\u001b[0m\u001b[0m\n\u001b[0;32m     18\u001b[0m \u001b[1;33m\u001b[0m\u001b[0m\n\u001b[1;32m---> 19\u001b[1;33m \u001b[0mcountry\u001b[0m\u001b[1;33m.\u001b[0m\u001b[0mto_csv\u001b[0m\u001b[1;33m(\u001b[0m\u001b[1;34m\"./country.csv\"\u001b[0m\u001b[1;33m)\u001b[0m\u001b[1;33m\u001b[0m\u001b[1;33m\u001b[0m\u001b[0m\n\u001b[0m\u001b[0;32m     20\u001b[0m \u001b[0mcountry\u001b[0m\u001b[1;33m.\u001b[0m\u001b[0mto_excel\u001b[0m\u001b[1;33m(\u001b[0m\u001b[1;34m\"./country.xlsx\"\u001b[0m\u001b[1;33m)\u001b[0m\u001b[1;33m\u001b[0m\u001b[1;33m\u001b[0m\u001b[0m\n\u001b[0;32m     21\u001b[0m \u001b[1;33m\u001b[0m\u001b[0m\n",
      "\u001b[1;32m~\\anaconda3\\lib\\site-packages\\pandas\\core\\generic.py\u001b[0m in \u001b[0;36mto_csv\u001b[1;34m(self, path_or_buf, sep, na_rep, float_format, columns, header, index, index_label, mode, encoding, compression, quoting, quotechar, line_terminator, chunksize, date_format, doublequote, escapechar, decimal, errors, storage_options)\u001b[0m\n\u001b[0;32m   3385\u001b[0m         )\n\u001b[0;32m   3386\u001b[0m \u001b[1;33m\u001b[0m\u001b[0m\n\u001b[1;32m-> 3387\u001b[1;33m         return DataFrameRenderer(formatter).to_csv(\n\u001b[0m\u001b[0;32m   3388\u001b[0m             \u001b[0mpath_or_buf\u001b[0m\u001b[1;33m,\u001b[0m\u001b[1;33m\u001b[0m\u001b[1;33m\u001b[0m\u001b[0m\n\u001b[0;32m   3389\u001b[0m             \u001b[0mline_terminator\u001b[0m\u001b[1;33m=\u001b[0m\u001b[0mline_terminator\u001b[0m\u001b[1;33m,\u001b[0m\u001b[1;33m\u001b[0m\u001b[1;33m\u001b[0m\u001b[0m\n",
      "\u001b[1;32m~\\anaconda3\\lib\\site-packages\\pandas\\io\\formats\\format.py\u001b[0m in \u001b[0;36mto_csv\u001b[1;34m(self, path_or_buf, encoding, sep, columns, index_label, mode, compression, quoting, quotechar, line_terminator, chunksize, date_format, doublequote, escapechar, errors, storage_options)\u001b[0m\n\u001b[0;32m   1081\u001b[0m             \u001b[0mformatter\u001b[0m\u001b[1;33m=\u001b[0m\u001b[0mself\u001b[0m\u001b[1;33m.\u001b[0m\u001b[0mfmt\u001b[0m\u001b[1;33m,\u001b[0m\u001b[1;33m\u001b[0m\u001b[1;33m\u001b[0m\u001b[0m\n\u001b[0;32m   1082\u001b[0m         )\n\u001b[1;32m-> 1083\u001b[1;33m         \u001b[0mcsv_formatter\u001b[0m\u001b[1;33m.\u001b[0m\u001b[0msave\u001b[0m\u001b[1;33m(\u001b[0m\u001b[1;33m)\u001b[0m\u001b[1;33m\u001b[0m\u001b[1;33m\u001b[0m\u001b[0m\n\u001b[0m\u001b[0;32m   1084\u001b[0m \u001b[1;33m\u001b[0m\u001b[0m\n\u001b[0;32m   1085\u001b[0m         \u001b[1;32mif\u001b[0m \u001b[0mcreated_buffer\u001b[0m\u001b[1;33m:\u001b[0m\u001b[1;33m\u001b[0m\u001b[1;33m\u001b[0m\u001b[0m\n",
      "\u001b[1;32m~\\anaconda3\\lib\\site-packages\\pandas\\io\\formats\\csvs.py\u001b[0m in \u001b[0;36msave\u001b[1;34m(self)\u001b[0m\n\u001b[0;32m    226\u001b[0m         \"\"\"\n\u001b[0;32m    227\u001b[0m         \u001b[1;31m# apply compression and byte/text conversion\u001b[0m\u001b[1;33m\u001b[0m\u001b[1;33m\u001b[0m\u001b[1;33m\u001b[0m\u001b[0m\n\u001b[1;32m--> 228\u001b[1;33m         with get_handle(\n\u001b[0m\u001b[0;32m    229\u001b[0m             \u001b[0mself\u001b[0m\u001b[1;33m.\u001b[0m\u001b[0mfilepath_or_buffer\u001b[0m\u001b[1;33m,\u001b[0m\u001b[1;33m\u001b[0m\u001b[1;33m\u001b[0m\u001b[0m\n\u001b[0;32m    230\u001b[0m             \u001b[0mself\u001b[0m\u001b[1;33m.\u001b[0m\u001b[0mmode\u001b[0m\u001b[1;33m,\u001b[0m\u001b[1;33m\u001b[0m\u001b[1;33m\u001b[0m\u001b[0m\n",
      "\u001b[1;32m~\\anaconda3\\lib\\site-packages\\pandas\\io\\common.py\u001b[0m in \u001b[0;36mget_handle\u001b[1;34m(path_or_buf, mode, encoding, compression, memory_map, is_text, errors, storage_options)\u001b[0m\n\u001b[0;32m    640\u001b[0m                 \u001b[0merrors\u001b[0m \u001b[1;33m=\u001b[0m \u001b[1;34m\"replace\"\u001b[0m\u001b[1;33m\u001b[0m\u001b[1;33m\u001b[0m\u001b[0m\n\u001b[0;32m    641\u001b[0m             \u001b[1;31m# Encoding\u001b[0m\u001b[1;33m\u001b[0m\u001b[1;33m\u001b[0m\u001b[1;33m\u001b[0m\u001b[0m\n\u001b[1;32m--> 642\u001b[1;33m             handle = open(\n\u001b[0m\u001b[0;32m    643\u001b[0m                 \u001b[0mhandle\u001b[0m\u001b[1;33m,\u001b[0m\u001b[1;33m\u001b[0m\u001b[1;33m\u001b[0m\u001b[0m\n\u001b[0;32m    644\u001b[0m                 \u001b[0mioargs\u001b[0m\u001b[1;33m.\u001b[0m\u001b[0mmode\u001b[0m\u001b[1;33m,\u001b[0m\u001b[1;33m\u001b[0m\u001b[1;33m\u001b[0m\u001b[0m\n",
      "\u001b[1;31mPermissionError\u001b[0m: [Errno 13] Permission denied: './country.csv'"
     ]
    }
   ],
   "metadata": {}
  }
 ],
 "metadata": {
  "orig_nbformat": 4,
  "language_info": {
   "name": "python",
   "version": "3.8.8",
   "mimetype": "text/x-python",
   "codemirror_mode": {
    "name": "ipython",
    "version": 3
   },
   "pygments_lexer": "ipython3",
   "nbconvert_exporter": "python",
   "file_extension": ".py"
  },
  "kernelspec": {
   "name": "python3",
   "display_name": "Python 3.8.8 64-bit ('base': conda)"
  },
  "interpreter": {
   "hash": "2346a11a15bd85cc3c2181d25c7e23d6d4f5f51a62f8dc73ff2a7ca497e6245f"
  }
 },
 "nbformat": 4,
 "nbformat_minor": 2
}