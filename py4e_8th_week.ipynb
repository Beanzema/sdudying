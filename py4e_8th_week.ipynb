{
 "cells": [
  {
   "cell_type": "code",
   "execution_count": 5,
   "source": [
    "fname = input('Enter File: ')\r\n",
    "if len(fname) < 1: fname = 'clown.txt'\r\n",
    "hand = open(fname)\r\n",
    "\r\n",
    "di = dict()\r\n",
    "for lin in hand:\r\n",
    "    lin =lin.rstrip()\r\n",
    "    # print(lin)\r\n",
    "    wds = lin.split()\r\n",
    "    #print(wds)\r\n",
    "    for w in wds:\r\n",
    "        if w in di:\r\n",
    "            di[w] = di[w]+1\r\n",
    "            print('**Existing**')\r\n",
    "        else:\r\n",
    "            di[w] = 1\r\n",
    "            print('**NEW**')\r\n",
    "        print(w,di[w])"
   ],
   "outputs": [
    {
     "output_type": "stream",
     "name": "stdout",
     "text": [
      "**NEW**\n",
      "the 1\n",
      "**NEW**\n",
      "clown 1\n",
      "**NEW**\n",
      "ran 1\n",
      "**NEW**\n",
      "after 1\n",
      "**Existing**\n",
      "the 2\n",
      "**NEW**\n",
      "car 1\n",
      "**NEW**\n",
      "and 1\n",
      "**Existing**\n",
      "the 3\n",
      "**Existing**\n",
      "car 2\n",
      "**Existing**\n",
      "ran 2\n",
      "**NEW**\n",
      "into 1\n",
      "**Existing**\n",
      "the 4\n",
      "**NEW**\n",
      "tent 1\n",
      "**Existing**\n",
      "and 2\n",
      "**Existing**\n",
      "the 5\n",
      "**Existing**\n",
      "tent 2\n",
      "**NEW**\n",
      "fell 1\n",
      "**NEW**\n",
      "down 1\n",
      "**NEW**\n",
      "on 1\n",
      "**Existing**\n",
      "the 6\n",
      "**Existing**\n",
      "clown 2\n",
      "**Existing**\n",
      "and 3\n",
      "**Existing**\n",
      "the 7\n",
      "**Existing**\n",
      "car 3\n"
     ]
    }
   ],
   "metadata": {}
  },
  {
   "cell_type": "code",
   "execution_count": 20,
   "source": [
    "fname = input(\"Enter File: \")\r\n",
    "if len(fname) < 1: fname = 'clown.txt'\r\n",
    "hand = open(fname)\r\n",
    "\r\n",
    "di = dict()\r\n",
    "for lin in hand:\r\n",
    "    lin = lin.rstrip()\r\n",
    "    wds = lin.split()\r\n",
    "    for w in wds:\r\n",
    "        # 관용구: retieve/create/update counter\r\n",
    "        di[w] = di.get(w,0) + 1\r\n",
    "        print(w,'new',di[w])\r\n",
    "\r\n",
    "largest = -1\r\n",
    "for k,v in di.items():\r\n",
    "    print(k,v)\r\n",
    "    if v > largest:\r\n",
    "        largest = v\r\n",
    "        theword = k # capture/ remenber the word that was largest\r\n",
    "\r\n",
    "print('Done',theword,largest)"
   ],
   "outputs": [
    {
     "output_type": "stream",
     "name": "stdout",
     "text": [
      "the new 1\n",
      "clown new 1\n",
      "ran new 1\n",
      "after new 1\n",
      "the new 2\n",
      "car new 1\n",
      "and new 1\n",
      "the new 3\n",
      "car new 2\n",
      "ran new 2\n",
      "into new 1\n",
      "the new 4\n",
      "tent new 1\n",
      "and new 2\n",
      "the new 5\n",
      "tent new 2\n",
      "fell new 1\n",
      "down new 1\n",
      "on new 1\n",
      "the new 6\n",
      "clown new 2\n",
      "and new 3\n",
      "the new 7\n",
      "car new 3\n",
      "the 7\n",
      "clown 2\n",
      "ran 2\n",
      "after 1\n",
      "car 3\n",
      "and 3\n",
      "into 1\n",
      "tent 2\n",
      "fell 1\n",
      "down 1\n",
      "on 1\n",
      "Done the 7\n"
     ]
    }
   ],
   "metadata": {}
  },
  {
   "cell_type": "code",
   "execution_count": 21,
   "source": [
    "c = {'a':10, 'b':1, 'c':22}\r\n",
    "tmp = list()\r\n",
    "for k,v in c.items():\r\n",
    "    tmp.append((v,k))"
   ],
   "outputs": [],
   "metadata": {}
  },
  {
   "cell_type": "code",
   "execution_count": 22,
   "source": [
    "print(tmp)"
   ],
   "outputs": [
    {
     "output_type": "stream",
     "name": "stdout",
     "text": [
      "[(10, 'a'), (1, 'b'), (22, 'c')]\n"
     ]
    }
   ],
   "metadata": {}
  },
  {
   "cell_type": "code",
   "execution_count": 26,
   "source": [
    "tmp = sorted(tmp, reverse=True)"
   ],
   "outputs": [],
   "metadata": {}
  },
  {
   "cell_type": "code",
   "execution_count": 27,
   "source": [
    "print(tmp)"
   ],
   "outputs": [
    {
     "output_type": "stream",
     "name": "stdout",
     "text": [
      "[(22, 'c'), (10, 'a'), (1, 'b')]\n"
     ]
    }
   ],
   "metadata": {}
  },
  {
   "cell_type": "code",
   "execution_count": 29,
   "source": [
    "fhand = open('romeo.txt')\r\n",
    "counts = dict()\r\n",
    "for line in fhand:\r\n",
    "    words = line.split()\r\n",
    "    for word in words:\r\n",
    "        # idiom part\r\n",
    "        counts[word] = counts.get(word,0) + 1\r\n",
    "\r\n",
    "lst = list()\r\n",
    "for key, val in counts.items():\r\n",
    "    newtup = (val, key)\r\n",
    "    lst.append(newtup)\r\n",
    "\r\n",
    "lst = sorted(lst, reverse=True)\r\n",
    "\r\n",
    "for val, key in lst[:10]:\r\n",
    "    print(key, val)"
   ],
   "outputs": [
    {
     "output_type": "stream",
     "name": "stdout",
     "text": [
      "the 3\n",
      "is 3\n",
      "and 3\n",
      "sun 2\n",
      "yonder 1\n",
      "with 1\n",
      "window 1\n",
      "what 1\n",
      "through 1\n",
      "soft 1\n"
     ]
    }
   ],
   "metadata": {}
  },
  {
   "cell_type": "code",
   "execution_count": 31,
   "source": [
    "# list comprehension을 통한 훨씬 간결한 표현 []라는 리스트 표현 안에 동적인 코드를 넣어서 표현할 수 있다!!!\r\n",
    "print(sorted([(v,k) for k,v in c.items()], reverse=True))"
   ],
   "outputs": [
    {
     "output_type": "stream",
     "name": "stdout",
     "text": [
      "[(22, 'c'), (10, 'a'), (1, 'b')]\n"
     ]
    }
   ],
   "metadata": {}
  },
  {
   "cell_type": "code",
   "execution_count": 33,
   "source": [
    "fname = input('Enter File: ')\r\n",
    "if len(fname) < 1: fname = 'clown.txt'\r\n",
    "hand = open(fname)\r\n",
    "\r\n",
    "di = dict()\r\n",
    "for lin in hand:\r\n",
    "    lin = lin.rstrip()\r\n",
    "    wds = lin.split()\r\n",
    "    for w in wds:\r\n",
    "        di[w] = di.get(w,0) + 1\r\n",
    "\r\n",
    "tmp = list()\r\n",
    "for k,v in di.items():\r\n",
    "    newt = (v,k)\r\n",
    "    tmp.append(newt)\r\n",
    "\r\n",
    "tmp = list()\r\n",
    "for k,v in di.items():\r\n",
    "    newt = (v,k)\r\n",
    "    tmp.append(newt)\r\n",
    "\r\n",
    "tmp = sorted(tmp, reverse=True)\r\n",
    "\r\n",
    "for v,k in tmp[:5]:\r\n",
    "    print(k,v)"
   ],
   "outputs": [
    {
     "output_type": "stream",
     "name": "stdout",
     "text": [
      "the 226\n",
      "to 204\n",
      "a 165\n",
      "and 160\n",
      "you 130\n"
     ]
    }
   ],
   "metadata": {}
  }
 ],
 "metadata": {
  "orig_nbformat": 4,
  "language_info": {
   "name": "python",
   "version": "3.9.5",
   "mimetype": "text/x-python",
   "codemirror_mode": {
    "name": "ipython",
    "version": 3
   },
   "pygments_lexer": "ipython3",
   "nbconvert_exporter": "python",
   "file_extension": ".py"
  },
  "kernelspec": {
   "name": "python3",
   "display_name": "Python 3.9.5 64-bit (windows store)"
  },
  "interpreter": {
   "hash": "177280cfb69099cf3922bdc630e7a9acc572c5c46795b700d60661d1aabe8cb5"
  }
 },
 "nbformat": 4,
 "nbformat_minor": 2
}