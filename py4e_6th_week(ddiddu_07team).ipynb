{
 "cells": [
  {
   "cell_type": "code",
   "execution_count": 1,
   "source": [
    "korea_king = \"태조,혜종,정종,광종,경종,성종,목종,현종,덕종,정종,문종,순종,선종,헌종,숙종,예종,인종,의종,명종,신종,희종,강종,고종,원조,충렬왕,충선왕,충숙왕,충혜왕,충목왕,충정왕,공민왕,우왕,창왕,공양왕\"\r\n",
    "chosun_king = \"태조,정종,태종,세종,문종,단종,세조,예종,성종,연산군,중종,인종,명종,선조,광해군,인조,효종,현종,숙종,경종,영조,정조,순조,헌종,철종,고종,순종\""
   ],
   "outputs": [],
   "metadata": {}
  },
  {
   "cell_type": "code",
   "execution_count": 6,
   "source": [
    "def king(korea, chosun):\r\n",
    "    king_dict = dict() # 왕 이름을 담을 dict\r\n",
    "\r\n",
    "    korea = korea.split(\",\") # 문자열을 , 기준으로 list 변경\r\n",
    "    chosun = chosun.split(\",\") # 문자열을 , 기준으로 list 변경\r\n",
    "\r\n",
    "    # 고려의 왕 이름 저장 후 값을 1로 설정\r\n",
    "    for kor in korea:\r\n",
    "        king_dict[kor] = 1\r\n",
    "\r\n",
    "    # 조선의 왕 탐색\r\n",
    "    for cho in chosun:\r\n",
    "        if king_dict.get(cho,0) >= 1: # 왕 이름이 dictionary에 있으면 1 이상의 값\r\n",
    "            king_dict[cho] += 1\r\n",
    "        else:\r\n",
    "            continue # 없으면 건너 뜀\r\n",
    "        repeated_king = [k for (k,v) in king_dict.items() if v>=2]\r\n",
    "\r\n",
    "    count = 0\r\n",
    "    for king in repeated_king:\r\n",
    "        print(f\"조선과 고려에 모두 있는 왕 이름: {king}\")\r\n",
    "        count += 1\r\n",
    "    print(f\"조건과 고려에 모두 있는 왕 이름은 총 {count}개 입니다\")"
   ],
   "outputs": [],
   "metadata": {}
  },
  {
   "cell_type": "code",
   "execution_count": 7,
   "source": [
    "king(korea_king, chosun_king)"
   ],
   "outputs": [
    {
     "output_type": "stream",
     "name": "stdout",
     "text": [
      "조선과 고려에 모두 있는 왕 이름: 태조\n",
      "조선과 고려에 모두 있는 왕 이름: 정종\n",
      "조선과 고려에 모두 있는 왕 이름: 경종\n",
      "조선과 고려에 모두 있는 왕 이름: 성종\n",
      "조선과 고려에 모두 있는 왕 이름: 현종\n",
      "조선과 고려에 모두 있는 왕 이름: 문종\n",
      "조선과 고려에 모두 있는 왕 이름: 순종\n",
      "조선과 고려에 모두 있는 왕 이름: 헌종\n",
      "조선과 고려에 모두 있는 왕 이름: 숙종\n",
      "조선과 고려에 모두 있는 왕 이름: 예종\n",
      "조선과 고려에 모두 있는 왕 이름: 인종\n",
      "조선과 고려에 모두 있는 왕 이름: 명종\n",
      "조선과 고려에 모두 있는 왕 이름: 고종\n",
      "조건과 고려에 모두 있는 왕 이름은 총 13개 입니다\n"
     ]
    }
   ],
   "metadata": {}
  },
  {
   "cell_type": "code",
   "execution_count": 8,
   "source": [
    "# 이름, 실적\r\n",
    "member_names = [\"갑돌이\", \"갑순이\", \"을돌이\", \"을순이\", \"병돌이\", \"병순이\"]\r\n",
    "member_records = [[4,5,3,5,6,5,3,4,1,3,4,5],[2,3,4,3,1,2,0,3,2,5,7,2],[1,3,0,3,3,4,5,6,7,2,2,1],[3,2,9,2,3,5,6,6,4,6,9,9],[8,7,7,5,6,7,5,8,8,6,10,9],[7,8,4,9,5,10,3,3,2,2,1,3]]"
   ],
   "outputs": [],
   "metadata": {}
  },
  {
   "cell_type": "code",
   "execution_count": 9,
   "source": [
    "def sales_management(names, records):\r\n",
    "    record_dict = dict() # 멤버의 실적을 기록할 dict 생성\r\n",
    "    # 실적 기록\r\n",
    "    for i in range(len(names)):\r\n",
    "        record_dict[names[i]] = records[i]\r\n",
    "    \r\n",
    "    # 실적을 평균으로 바꿔서 저장\r\n",
    "    for k,v in record_dict.items():\r\n",
    "        total = 0\r\n",
    "        for i in v:\r\n",
    "            total += i\r\n",
    "        mean = total / len(v)\r\n",
    "        record_dict[k] = mean\r\n",
    "    # 평균 실적이 높은 순서대로 저장\r\n",
    "    ranking = [(v,k) for k,v in record_dict.items()]\r\n",
    "    ranking = sorted(ranking, reverse=True)\r\n",
    "\r\n",
    "    # 예비 보너스, 면담 대상자 저장\r\n",
    "    bonus_names = (ranking[0][1], ranking[1][1])\r\n",
    "    counsel_name = (ranking[4][1], ranking[5][1])\r\n",
    "\r\n",
    "    # 평균 5보다 작으면 보너스 대상자 제외\r\n",
    "    for bn in bonus_names:\r\n",
    "        if record_dict[bn] < 5:\r\n",
    "            continue\r\n",
    "        print(f\"보너스 대상자 {bn}\")\r\n",
    "    print()\r\n",
    "\r\n",
    "    # 3보다 높으면 면담 대상자 제외\r\n",
    "    for cn in counsel_name:\r\n",
    "        if record_dict[cn] > 3:\r\n",
    "            continue\r\n",
    "        print(f\"면담 대상자 {cn}\")"
   ],
   "outputs": [],
   "metadata": {}
  },
  {
   "cell_type": "code",
   "execution_count": 10,
   "source": [
    "sales_management(member_names,member_records)"
   ],
   "outputs": [
    {
     "output_type": "stream",
     "name": "stdout",
     "text": [
      "보너스 대상자 병돌이\n",
      "보너스 대상자 을순이\n",
      "\n",
      "면담 대상자 갑순이\n"
     ]
    }
   ],
   "metadata": {}
  },
  {
   "cell_type": "code",
   "execution_count": 16,
   "source": [
    "stocks = \"삼성전자/10/85000,카카오/15/130000,LG화학/3/820000,NAVER/5/420000\"\r\n",
    "sells = [82000, 160000, 835000, 410000]"
   ],
   "outputs": [],
   "metadata": {}
  },
  {
   "cell_type": "code",
   "execution_count": 18,
   "source": [
    "def stock_profit(stocks, sells):\r\n",
    "    stocks = stocks.split(',') # , 기준으로 분리\r\n",
    "    stocks = [s.split(\"/\") for s in stocks] # / 기준으로 분리\r\n",
    "\r\n",
    "    # 종목명, 수량, 매수평균금액, 종목별수익률을 저장할 dict 생성\r\n",
    "    profit_dict = dict()\r\n",
    "    profits = [] # 종목별 수익률을 저장할 리스트\r\n",
    "\r\n",
    "    # stocks 리스트를 반복하며 dict로 데이터 옮기기\r\n",
    "    for stock in stocks:\r\n",
    "        # 값이 null이면 키 생성하고 값을 리스트로 저장\r\n",
    "        # 존재하면 리스트에 추가\r\n",
    "        if profit_dict.get(\"종목명\",\"\") == \"\":\r\n",
    "            profit_dict[\"종목명\"] = [stock[0]]\r\n",
    "        else:\r\n",
    "            profit_dict[\"종목명\"].append(stock[0])\r\n",
    "        \r\n",
    "        if profit_dict.get(\"수량\",0) == 0:\r\n",
    "            profit_dict[\"수량\"] = [int(stock[1])]\r\n",
    "        else:\r\n",
    "            profit_dict[\"수량\"].append(int(stock[1]))\r\n",
    "        \r\n",
    "        if profit_dict.get(\"매수평균금액\",0) == 0:\r\n",
    "            profit_dict[\"매수평균금액\"] = [int(stock[2])]\r\n",
    "        else:\r\n",
    "            profit_dict[\"매수평균금액\"].append(int(stock[2]))\r\n",
    "    # 수익률 = ((매도가 - 매수가) / 매수가) X 100\r\n",
    "    for i in range(len(sells)):\r\n",
    "        profit = ((sells[i] - profit_dict[\"매수평균금액\"][i]) / profit_dict[\"매수평균금액\"][i])*100\r\n",
    "        profits.append(profit)\r\n",
    "\r\n",
    "    profit_dict[\"종목별수익률\"] = profits\r\n",
    "\r\n",
    "    # 종목명과 수익률만 저장할 dict 생성\r\n",
    "    answer_dict = dict()\r\n",
    "    # 종목명에 수익률 대응시켜 저장\r\n",
    "    i = 0\r\n",
    "    for name in profit_dict[\"종목명\"]:\r\n",
    "        answer_dict[name] = profit_dict[\"종목별수익률\"][i]\r\n",
    "        i += 1\r\n",
    "    # 정렬\r\n",
    "    answer_list = [(v,k) for (k,v) in answer_dict.items()]\r\n",
    "    answer_list = sorted(answer_list, reverse=True)\r\n",
    "\r\n",
    "    # 출력\r\n",
    "    for i in answer_list:\r\n",
    "        print(f\"{i[1]}의 수익률 {i[0]:.3}\")"
   ],
   "outputs": [],
   "metadata": {}
  },
  {
   "cell_type": "code",
   "execution_count": 19,
   "source": [
    "stock_profit(stocks, sells)"
   ],
   "outputs": [
    {
     "output_type": "stream",
     "name": "stdout",
     "text": [
      "카카오의 수익률 23.1\n",
      "LG화학의 수익률 1.83\n",
      "NAVER의 수익률 -2.38\n",
      "삼성전자의 수익률 -3.53\n"
     ]
    }
   ],
   "metadata": {}
  }
 ],
 "metadata": {
  "orig_nbformat": 4,
  "language_info": {
   "name": "python",
   "version": "3.9.5",
   "mimetype": "text/x-python",
   "codemirror_mode": {
    "name": "ipython",
    "version": 3
   },
   "pygments_lexer": "ipython3",
   "nbconvert_exporter": "python",
   "file_extension": ".py"
  },
  "kernelspec": {
   "name": "python3",
   "display_name": "Python 3.9.5 64-bit (windows store)"
  },
  "interpreter": {
   "hash": "177280cfb69099cf3922bdc630e7a9acc572c5c46795b700d60661d1aabe8cb5"
  }
 },
 "nbformat": 4,
 "nbformat_minor": 2
}