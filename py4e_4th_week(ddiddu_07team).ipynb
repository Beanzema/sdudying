{
 "cells": [
  {
   "cell_type": "code",
   "execution_count": null,
   "source": [
    "def make_comma(number):\r\n",
    "    number = str(number) # int를 str로 변환\r\n",
    "    length = len(number) # 숫자의 길이\r\n",
    "    num_comma = length // 3 # 3으로 나눠서 찍어야 하는 콤마의 개수 구하기\r\n",
    "    if length % 3 == 0:\r\n",
    "        num_comma = num_comma - 1 #길이가 3으로 나눠질 경우 -1\r\n",
    "\r\n",
    "    new_number = \"\" # 새로운 숫자를 담을 변수 생성\r\n",
    "    n = -1 # 인덱스를 거꾸로 가야하기 때문에 -1\r\n",
    "    while num_comma != 0: # comma를 다 찍을 때까지 반복\r\n",
    "        new_number = number[n] + new_number\r\n",
    "        if n % 3 == 0:\r\n",
    "            new_number =\",\" + new_number\r\n",
    "            new_comma = num_comma - 1\r\n",
    "        n = n - 1\r\n",
    "            # 콤마를 다 찍고 남은 앞의 숫자를 더해주면 완성\r\n",
    "    print(number[:n+1]+new_number)"
   ],
   "outputs": [],
   "metadata": {}
  },
  {
   "cell_type": "code",
   "execution_count": null,
   "source": [
    "def count_word(text, word):\r\n",
    "    #문자열을 텍스트 파일로 저장\r\n",
    "    text_save = open(\"text.txt\",\"w\", encoding = \"UTF8\")\r\n",
    "    text_save.write(text)\r\n",
    "    text_save.close()\r\n",
    "\r\n",
    "    count = 0 # word를 세는 변수\r\n",
    "    word_length = len(word) # 문자의 길이\r\n",
    "    word_save = \"\" # 문자의 길이만큼만 저장\r\n",
    "\r\n",
    "    f_1 = open(\"text.txt\") # 텓스트 파일 읽어오기\r\n",
    "    for line in f_1: # 한 줄씩 불러오기\r\n",
    "        if word in line: #우리가 찾는 문자가 현재 문장에 있다면\r\n",
    "            for s in line:\r\n",
    "                word_save = word_save + s # 한 글자씩 word_save에 저장\r\n",
    "                if word_save == word: # word_save와 word를 비교해서 같으면\r\n",
    "                    count += # count + 1\r\n",
    "                if len(word_save) == len(word): # 다음 문자 저장을 위해 1칸씩 앞으로 이동\r\n",
    "                    word_save = word_save[1:]\r\n",
    "    print(count) # word 수 출력"
   ],
   "outputs": [],
   "metadata": {}
  },
  {
   "cell_type": "code",
   "execution_count": null,
   "source": [
    "def wrong_guest_book(guest_book):\r\n",
    "    # text 파일 저장\r\n",
    "    text_save = open(\"guest_book.txt\", \"w\", encoding = \"UTF8\")\r\n",
    "    text_save.write(guest_book)\r\n",
    "    text_save.close()\r\n",
    "\r\n",
    "    # 파일 불러오기\r\n",
    "    file = open(\"guest_book.txt\")\r\n",
    "    for line in file:\r\n",
    "        #이름과 전화번호 구분\r\n",
    "        name = line[:2]\r\n",
    "        phone_number = line[3:].strip()\r\n",
    "            # 조건을 만족하면 continue 아니면 출력\r\n",
    "        if len(phone_number) == 13 and phone_number.find(\"-\") != -1 and phone_number.startswith(\"010\") == True:\r\n",
    "            continue\r\n",
    "        else:\r\n",
    "            print(f\"잘못 쓴 사람: {name}\")\r\n",
    "            print(f\"잘못 쓴 번호: {phone_number}\")\r\n",
    "            print()"
   ],
   "outputs": [],
   "metadata": {}
  },
  {
   "cell_type": "code",
   "execution_count": null,
   "source": [
    "def chech_id(id_number):\r\n",
    "    while True:\r\n",
    "        if len(id)"
   ],
   "outputs": [],
   "metadata": {}
  }
 ],
 "metadata": {
  "orig_nbformat": 4,
  "language_info": {
   "name": "python",
   "version": "3.8.8"
  },
  "kernelspec": {
   "name": "python3",
   "display_name": "Python 3.8.8 64-bit ('base': conda)"
  },
  "interpreter": {
   "hash": "2346a11a15bd85cc3c2181d25c7e23d6d4f5f51a62f8dc73ff2a7ca497e6245f"
  }
 },
 "nbformat": 4,
 "nbformat_minor": 2
}